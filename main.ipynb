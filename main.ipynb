{
 "cells": [
  {
   "cell_type": "markdown",
   "metadata": {
    "colab_type": "text",
    "id": "DWJXd8T78uHQ"
   },
   "source": [
    "# Implementing and Training ConvCNPs for Hydrology"
   ]
  },
  {
   "cell_type": "markdown",
   "metadata": {},
   "source": [
    "### Import required packages"
   ]
  },
  {
   "cell_type": "code",
   "execution_count": 1,
   "metadata": {
    "colab": {},
    "colab_type": "code",
    "id": "_RgZgmbk8uHT",
    "scrolled": true,
    "tags": []
   },
   "outputs": [
    {
     "name": "stderr",
     "output_type": "stream",
     "text": [
      "c:\\Users\\Sior AMD-4\\anaconda3\\envs\\hydro-nps\\Lib\\site-packages\\fdm\\fdm.py:38: DeprecationWarning: `np.math` is a deprecated alias for the standard library `math` module (Deprecated Numpy 1.25). Replace usages of `np.math` with `math`\n",
      "  coefs = mat.inv()[:, deriv] * np.math.factorial(deriv)\n",
      "c:\\Users\\Sior AMD-4\\anaconda3\\envs\\hydro-nps\\Lib\\site-packages\\fdm\\fdm.py:44: DeprecationWarning: `np.math` is a deprecated alias for the standard library `math` module (Deprecated Numpy 1.25). Replace usages of `np.math` with `math`\n",
      "  / np.math.factorial(order)\n",
      "c:\\Users\\Sior AMD-4\\anaconda3\\envs\\hydro-nps\\Lib\\site-packages\\fdm\\fdm.py:38: DeprecationWarning: `np.math` is a deprecated alias for the standard library `math` module (Deprecated Numpy 1.25). Replace usages of `np.math` with `math`\n",
      "  coefs = mat.inv()[:, deriv] * np.math.factorial(deriv)\n",
      "c:\\Users\\Sior AMD-4\\anaconda3\\envs\\hydro-nps\\Lib\\site-packages\\fdm\\fdm.py:44: DeprecationWarning: `np.math` is a deprecated alias for the standard library `math` module (Deprecated Numpy 1.25). Replace usages of `np.math` with `math`\n",
      "  / np.math.factorial(order)\n"
     ]
    },
    {
     "name": "stdout",
     "output_type": "stream",
     "text": [
      "cuda\n"
     ]
    }
   ],
   "source": [
    "%load_ext autoreload\n",
    "%autoreload 2\n",
    "\n",
    "import config as C\n",
    "\n",
    "from IPython import display\n",
    "\n",
    "import os\n",
    "import numpy as np\n",
    "import matplotlib.pyplot as plt\n",
    "import time, datetime\n",
    "import pandas as pd\n",
    "import pdb\n",
    "import torch\n",
    "import torch.nn as nn\n",
    "import pickle\n",
    "\n",
    "import scipy.stats\n",
    "\n",
    "# from sklearn import preprocessing\n",
    "# from scipy.special import inv_boxcox\n",
    "# from scipy.stats import boxcox\n",
    "import stheno.torch as stheno\n",
    "\n",
    "#import convcnp.data\n",
    "# import convcnp.data_hydro_2\n",
    "import data_hydro_2_extended\n",
    "# import convcnp.data_365\n",
    "# import convcnp.data_loader_pytorch\n",
    "import NSE\n",
    "# from metrics import *\n",
    "#import convcnp.task_preprocessing as tp\n",
    "\n",
    "from experiment import report_loss, RunningAverage, save_checkpoint\n",
    "from utils import gaussian_logpdf, gamma_logpdf, init_sequential_weights, to_multiple, to_numpy, gamma_stats\n",
    "from plot_utils import *\n",
    "from architectures import SimpleConv, UNet, SeparableConv1d, Conv1d, DepthSepConv1d\n",
    "from convcnp_architectures import DeepSet, ConvDeepSet, FinalLayer, ConvCNP\n",
    "from task_utils import task_to_device, loaded_task, try_to_delete\n",
    "\n",
    "from numpy import loadtxt\n",
    "\n",
    "device = torch.device('cuda' if torch.cuda.is_available() else 'cpu')\n",
    "\n",
    "from transformations import rev_transform, rev_transform_tensor, scaling, standardise, log_transform, boxcox_transform\n",
    "\n",
    "from plot_utils import plot_model_task\n",
    "\n",
    "from experiment import WorkingDirectory, generate_root\n",
    "\n",
    "from data_loader_pytorch import *\n",
    "\n",
    "# os.environ['CUDA_LAUNCH_BLOCKING'] = '1'\n",
    "\n",
    "print(device)"
   ]
  },
  {
   "cell_type": "code",
   "execution_count": 2,
   "metadata": {},
   "outputs": [],
   "source": [
    "torch.multiprocessing.set_start_method('spawn')  # Set the start method"
   ]
  },
  {
   "cell_type": "markdown",
   "metadata": {},
   "source": [
    "### Import data"
   ]
  },
  {
   "cell_type": "code",
   "execution_count": 3,
   "metadata": {
    "tags": []
   },
   "outputs": [
    {
     "name": "stdout",
     "output_type": "stream",
     "text": [
      "CPU times: total: 2.27 s\n",
      "Wall time: 2.94 s\n"
     ]
    }
   ],
   "source": [
    "%%time\n",
    "# df_raw = pd.read_csv(C.filepath)\n",
    "df_raw = pd.read_pickle('df_raw.pkl')"
   ]
  },
  {
   "cell_type": "code",
   "execution_count": 4,
   "metadata": {},
   "outputs": [],
   "source": [
    "selected_basins = loadtxt(C.basins_file, comments=\"#\", delimiter=\",\", unpack=False, dtype=\"int\")"
   ]
  },
  {
   "cell_type": "code",
   "execution_count": 5,
   "metadata": {
    "tags": []
   },
   "outputs": [
    {
     "name": "stdout",
     "output_type": "stream",
     "text": [
      "Length of dataframe for selected basin:  6521041\n",
      "Length of dataframe after dropping duplicates:  6520841\n",
      "Length of dataframe after filtering out error values:  6518953\n",
      "CPU times: total: 14.6 s\n",
      "Wall time: 17 s\n"
     ]
    }
   ],
   "source": [
    "%%time\n",
    "\n",
    "df_raw = df_raw[df_raw['basin'].isin(selected_basins)]\n",
    "print(\"Length of dataframe for selected basin: \", len(df_raw))\n",
    "\n",
    "df_raw.drop(['MOD_RUN'],axis=1,inplace=True)\n",
    "\n",
    "df_raw.drop_duplicates(inplace=True)\n",
    "print(\"Length of dataframe after dropping duplicates: \", len(df_raw))\n",
    "\n",
    "df_raw = df_raw[df_raw['OBS_RUN']>=0]\n",
    "print(\"Length of dataframe after filtering out error values: \", len(df_raw))\n",
    "\n",
    "df_raw['year'] = df_raw['YR']"
   ]
  },
  {
   "cell_type": "markdown",
   "metadata": {},
   "source": [
    "### Catchment Attributes"
   ]
  },
  {
   "cell_type": "code",
   "execution_count": 6,
   "metadata": {},
   "outputs": [],
   "source": [
    "df_att = pd.read_csv(C.path)\n",
    "numeric_attributes = df_att.select_dtypes('float64').columns.tolist()\n",
    "\n",
    "for att in numeric_attributes:\n",
    "    df_att[att] = standardise(df_att[att])\n",
    "\n",
    "#df_att_n['hru08'] = df_att['hru08']\n",
    "#df_att.describe()"
   ]
  },
  {
   "cell_type": "code",
   "execution_count": 7,
   "metadata": {},
   "outputs": [],
   "source": [
    "df = df_raw.copy() "
   ]
  },
  {
   "cell_type": "code",
   "execution_count": 8,
   "metadata": {},
   "outputs": [],
   "source": [
    "dist='gaussian'\n",
    "\n",
    "log_transformation = False\n",
    "boxcox_transformation = False\n",
    "\n",
    "if log_transformation == 'log':\n",
    "\n",
    "    target_fields = [#'OBS_RUN',\n",
    "                    'prcp(mm/day)']\n",
    "\n",
    "    for f in target_fields:\n",
    "        df[f] = log_transform(df_raw[f], 1)\n",
    "        print(f\"log of {f}\")\n",
    "\n",
    "if boxcox_transformation == 'boxcox':\n",
    "\n",
    "    target_fields = ['prcp(mm/day)']\n",
    "    \n",
    "    for f in target_fields:\n",
    "        df[f], lambda_val = boxcox_transform(df_raw[f], 1e-6)\n",
    "        \n",
    "        # replace special characters in lambda_val\n",
    "        for ch in ['(',')','/']:\n",
    "            f = f.replace(ch,\"_\") \n",
    "        \n",
    "        exec(\"lambda_\" + f + \" = \" + str(lambda_val)) # save lambda value to a variable\n",
    "        print(\"lambda_\" + f + \" = \", lambda_val)\n"
   ]
  },
  {
   "cell_type": "code",
   "execution_count": 9,
   "metadata": {},
   "outputs": [],
   "source": [
    "df, q_mu, q_sigma = scaling(df, C.fields, method='std')"
   ]
  },
  {
   "cell_type": "code",
   "execution_count": 10,
   "metadata": {},
   "outputs": [
    {
     "name": "stdout",
     "output_type": "stream",
     "text": [
      "No shift\n"
     ]
    }
   ],
   "source": [
    "if dist=='gamma':\n",
    "    Q_shift = abs(df['OBS_RUN'].min()) + 1\n",
    "    df['OBS_RUN'] = df['OBS_RUN'] + Q_shift\n",
    "    print(f'Shifted by {Q_shift}')\n",
    "else:\n",
    "    print('No shift')"
   ]
  },
  {
   "cell_type": "markdown",
   "metadata": {},
   "source": [
    "### Load dict"
   ]
  },
  {
   "cell_type": "code",
   "execution_count": 11,
   "metadata": {},
   "outputs": [],
   "source": [
    "# a_file = open(\"train_test_splits/k5fold_split.pkl\", \"rb\")\n",
    "# k5fold_dict = pickle.load(a_file)"
   ]
  },
  {
   "cell_type": "markdown",
   "metadata": {},
   "source": [
    "## Train test sets"
   ]
  },
  {
   "cell_type": "code",
   "execution_count": 12,
   "metadata": {},
   "outputs": [],
   "source": [
    "tr = te = selected_basins"
   ]
  },
  {
   "cell_type": "code",
   "execution_count": 13,
   "metadata": {},
   "outputs": [
    {
     "name": "stdout",
     "output_type": "stream",
     "text": [
      "Train test split random: 531 train and 531 test locations\n"
     ]
    }
   ],
   "source": [
    "# tr = k5fold_dict['train_basins_01']\n",
    "# te = k5fold_dict['test_basins_01']\n",
    "\n",
    "print(f'Train test split random: {len(tr)} train and {len(te)} test locations')"
   ]
  },
  {
   "cell_type": "code",
   "execution_count": 14,
   "metadata": {
    "scrolled": true
   },
   "outputs": [],
   "source": [
    "df['OBS_RUN_mean'] = df.groupby('hru08')['OBS_RUN'].transform(lambda x: x.mean())\n",
    "\n",
    "df_train = df[(df['DATE'] >= C.s_date_tr) & (df['DATE'] <= C.e_date_tr) & (df['basin'].isin(tr))].copy()\n",
    "df_test_both = df[(df['DATE'] >= C.s_date_te) & (df['DATE'] <= C.e_date_te) & (df['basin'].isin(te))].copy()\n",
    "df_test_catchment = df[(df['DATE'] >= C.s_date_tr) & (df['DATE'] <= C.e_date_tr) & (df['basin'].isin(te))].copy()\n",
    "df_test_temporal = df[(df['DATE'] >= C.s_date_te) & (df['DATE'] <= C.e_date_te) & (df['basin'].isin(tr))].copy()\n",
    "\n",
    "df_train.drop(C.list_to_drop,axis=1,inplace=True)\n",
    "df_test_both.drop(C.list_to_drop,axis=1,inplace=True)\n",
    "df_test_catchment.drop(C.list_to_drop,axis=1,inplace=True)\n",
    "df_test_temporal.drop(C.list_to_drop,axis=1,inplace=True)\n",
    "\n",
    "df_train.reset_index(drop=True,inplace=True)\n",
    "df_test_temporal.reset_index(drop=True,inplace=True)\n",
    "df_test_catchment.reset_index(drop=True,inplace=True)\n",
    "df_test_both.reset_index(drop=True,inplace=True)"
   ]
  },
  {
   "cell_type": "markdown",
   "metadata": {},
   "source": [
    "## Model"
   ]
  },
  {
   "cell_type": "code",
   "execution_count": 15,
   "metadata": {
    "colab": {},
    "colab_type": "code",
    "id": "w13T-E008uHs"
   },
   "outputs": [
    {
     "name": "stdout",
     "output_type": "stream",
     "text": [
      "51413\n"
     ]
    }
   ],
   "source": [
    "# Instantiate ConvCNP\n",
    "model = ConvCNP(in_channels = len(C.context_channels),\n",
    "                #rho=SimpleConv(),\n",
    "                rho=UNet(),\n",
    "                #rho=DepthSepConv1d(in_channels=rho_in_channels, conv_channels=64, num_layers=7, kernel_size=15),\n",
    "                points_per_unit=64*8,\n",
    "                dynamic_embedding_dims=C.dynamic_embedding_dims,\n",
    "                static_embedding_dims=C.static_embedding_dims,\n",
    "                static_feature_embedding=C.static_feature_embedding,\n",
    "                static_embedding_in_channels=C.static_embedding_in_channels,\n",
    "                static_feature_missing_data=C.static_feature_missing_data,\n",
    "                static_embedding_location=C.static_embedding_location,\n",
    "                distribution=dist)\n",
    "\n",
    "# Assign model to device\n",
    "model.to(device)\n",
    "\n",
    "print(model.num_params)"
   ]
  },
  {
   "cell_type": "code",
   "execution_count": 16,
   "metadata": {},
   "outputs": [],
   "source": [
    "# from new_data import create_dataloader, HydroGeneratore\n",
    "\n",
    "# # Usage example:\n",
    "# dataloader = create_dataloader(dataframe=df_train, \n",
    "#                                df_att=df_att, \n",
    "#                                channels_c=C.context_channels, \n",
    "#                                channels_t=C.target_channels, \n",
    "#                                channels_att=C.attributes, \n",
    "#                                batch_size=32)\n",
    "\n",
    "# generator = HydroGeneratore(dataloader, device)\n",
    "\n",
    "# for task in generator.generate_tasks():\n",
    "#     break"
   ]
  },
  {
   "cell_type": "code",
   "execution_count": 17,
   "metadata": {},
   "outputs": [],
   "source": [
    "# for i in range(8):\n",
    "#     x = task['x'][0,:].cpu()\n",
    "#     y1 = task['y_context'][0,i,:].cpu()\n",
    "#     y2 = task['y_target'][0,i,:].cpu()\n",
    "\n",
    "#     plt.plot(x,y1,'o', label=f'y1{i}')\n",
    "#     # plt.plot(x,y2,'o', label=f'y2{i}')\n",
    "\n",
    "# plt.legend()\n",
    "# plt.show()"
   ]
  },
  {
   "cell_type": "markdown",
   "metadata": {},
   "source": [
    "## Training Data Generation"
   ]
  },
  {
   "cell_type": "code",
   "execution_count": 19,
   "metadata": {
    "colab": {
     "base_uri": "https://localhost:8080/",
     "height": 391
    },
    "colab_type": "code",
    "executionInfo": {
     "elapsed": 22584,
     "status": "ok",
     "timestamp": 1588078548797,
     "user": {
      "displayName": "M. Girona-Mata",
      "photoUrl": "",
      "userId": "05153816392464611766"
     },
     "user_tz": -60
    },
    "id": "E4sS9Ood8uHZ",
    "outputId": "e5365e51-135f-4fb1-feb2-3b55462d73bf",
    "scrolled": true
   },
   "outputs": [],
   "source": [
    "gen = data_hydro_2_extended.HydroGenerator(\n",
    "                                            dataframe = df_train,\n",
    "                                            df_att = df_att,\n",
    "                                            batch_size = 16,\n",
    "                                            num_tasks = 16,\n",
    "                                            channels_c = C.context_channels,\n",
    "                                            channels_t = C.target_channels,\n",
    "                                            channels_att = C.attributes,\n",
    "                                            channels_t_val = C.target_val_channel,\n",
    "                                            context_mask = C.context_mask,\n",
    "                                            target_mask = C.target_mask,\n",
    "                                            extrapolate = C.extrapolate_flag,\n",
    "                                            timeslice = C.timeslice,\n",
    "                                            dropout_rate = 0, #  0.3,\n",
    "                                            concat_static_features = C.concat_static_features,\n",
    "                                            min_train_points= C.min_train_points,\n",
    "                                            min_test_points= C.min_test_points,\n",
    "                                            max_train_points= C.max_train_points,\n",
    "                                            max_test_points= C.max_test_points,\n",
    "                                            device='cpu',\n",
    "                                            )\n",
    "\n",
    "# task = gen.generate_task()\n",
    "# fig = plt.figure(figsize=(24, 5))\n",
    "# for i in range(3):\n",
    "#     plt.subplot(1, 3, i + 1)\n",
    "#     plot_task(task, i, legend=i==2)\n",
    "# plt.show()"
   ]
  },
  {
   "cell_type": "markdown",
   "metadata": {
    "colab_type": "text",
    "id": "zrxsiV9C8uHx"
   },
   "source": [
    "## Training Methods\n",
    "\n",
    "With our model in place, let's next define a training procedure. The `train` function below performs one training epoch (as defined by the number of tasks in an epoch from our data generator) as follows:\n",
    "1. Iterate over the tasks in the epoch\n",
    "2. For every task, condition on the context set, and make (Gaussian) predictions at the target locations.\n",
    "3. Compute the log-likelihood of the predictions under the target set.\n",
    "4. Backpropagate the error from the (negative) log-likelihood to the model parameters \n",
    "\n",
    "The `RunningAverage` average object will maintain a running average of the negative log-likelihood. In addition, we provide a plotting function so as to visually monitor the progress of the training procedure."
   ]
  },
  {
   "cell_type": "code",
   "execution_count": 20,
   "metadata": {
    "colab": {},
    "colab_type": "code",
    "id": "QAaF-qaL8uHz",
    "scrolled": true
   },
   "outputs": [],
   "source": [
    "def train(data, model, opt, dist='gaussian', ):\n",
    "    #Perform a training epoch.\n",
    "    ravg = RunningAverage()\n",
    "    ravg_nse = RunningAverage() \n",
    "    model.train()\n",
    "    task_obj_list = []\n",
    "    \n",
    "    for step, task in enumerate(data):\n",
    "        \n",
    "        task = loaded_task(task)\n",
    "        \n",
    "        y_loc, y_scale = model(task['x_context'], task['y_context'], task['x_target'], task['y_att'], \n",
    "                               task['feature'], task['m'], \n",
    "                               static_masking_rate=static_masking_rate, \n",
    "                               embedding=C.feature_embedding_flag)\n",
    "        \n",
    "        if dist == 'gaussian':\n",
    "            y_mean, y_std = y_loc, y_scale\n",
    "            obj = -gaussian_logpdf(task['y_target'], y_loc, y_scale, 'batched_mean')\n",
    "        elif dist == 'gamma':\n",
    "            y_mean, y_std = gamma_stats(y_loc, y_scale)\n",
    "            obj = -gamma_logpdf(task['y_target'], y_loc, y_scale, 'batched_mean')\n",
    "        elif dist == 'gaussian_fixed':\n",
    "            y_mean, y_std = y_loc, y_scale\n",
    "            obj = -gaussian_logpdf(task['y_target'], y_loc, y_scale/y_scale, 'batched_mean')\n",
    "        \n",
    "        obj.backward()\n",
    "        opt.step()\n",
    "        opt.zero_grad()\n",
    "              \n",
    "        obj_nse = NSE.nse_tensor(obs = rev_transform_tensor(task['y_target']),\n",
    "                                 mean_obs = rev_transform_tensor(task['y_target_val']),\n",
    "                                 sim = rev_transform_tensor(y_mean))\n",
    "        \n",
    "        task_obj_list.append(obj.item())\n",
    "        ravg.update(obj.item(), data.batch_size)\n",
    "        ravg_nse.update(obj_nse.item(), data.batch_size)\n",
    "        \n",
    "        if step % 25 == 0:\n",
    "            print(\"step %s -- avg training loss is %.3f\" % (step, ravg.avg)) \n",
    "            \n",
    "    plt.plot(task_obj_list)\n",
    "    plt.show\n",
    "        \n",
    "    return ravg.avg, ravg_nse.avg"
   ]
  },
  {
   "cell_type": "code",
   "execution_count": 21,
   "metadata": {},
   "outputs": [],
   "source": [
    "# Create a fixed set of outputs to predict at when plotting.\n",
    "x_test = torch.linspace(0., 1.,C.timeslice)[None, :, None].to(device)"
   ]
  },
  {
   "cell_type": "code",
   "execution_count": 22,
   "metadata": {},
   "outputs": [],
   "source": [
    "# Instantiate data generator for testing.\n",
    "NUM_TEST_TASKS = 16 # 128\n",
    "gen_test = data_hydro_2_extended.HydroGenerator(\n",
    "                                            dataframe=df_test_both,\n",
    "                                            df_att = df_att,\n",
    "                                            batch_size = 32,\n",
    "                                            num_tasks = NUM_TEST_TASKS,\n",
    "                                            channels_c = C.context_channels,\n",
    "                                            channels_t = C.target_channels,\n",
    "                                            channels_att = C.attributes,\n",
    "                                            channels_t_val = C.target_val_channel,\n",
    "                                            context_mask = C.context_mask,\n",
    "                                            target_mask = C.target_mask,\n",
    "                                            extrapolate = False,\n",
    "                                            concat_static_features = C.concat_static_features,\n",
    "                                            timeslice = C.timeslice,\n",
    "                                            min_train_points = C.min_train_points,\n",
    "                                            min_test_points = C.min_test_points,\n",
    "                                            max_train_points = C.max_train_points,\n",
    "                                            max_test_points = C.max_test_points,\n",
    "                                            device = 'cpu'\n",
    "                                            )\n",
    "\n",
    "# task = gen_test.generate_task()\n",
    "# fig = plt.figure(figsize=(24, 5))\n",
    "# for i in range(3):\n",
    "#     plt.subplot(1, 3, i + 1)\n",
    "#     plot_task(task, i, legend=i==2)\n",
    "# plt.show()"
   ]
  },
  {
   "cell_type": "code",
   "execution_count": 23,
   "metadata": {},
   "outputs": [],
   "source": [
    "# Instantiate data generator for validation.\n",
    "NUM_TEST_TASKS = 16 # 128\n",
    "gen_val = data_hydro_2_extended.HydroGenerator(\n",
    "                                            dataframe=df_test_catchment,\n",
    "                                            df_att = df_att,\n",
    "                                            batch_size = 32,\n",
    "                                            num_tasks = NUM_TEST_TASKS,\n",
    "                                            channels_c = C.context_channels,\n",
    "                                            channels_t = C.target_channels,\n",
    "                                            channels_att = C.attributes,\n",
    "                                            channels_t_val = C.target_val_channel,\n",
    "                                            context_mask = C.context_mask,\n",
    "                                            target_mask = C.target_mask,\n",
    "                                            extrapolate = False,\n",
    "                                            concat_static_features = C.concat_static_features,\n",
    "                                            timeslice = C.timeslice,\n",
    "                                            min_train_points = C.min_train_points,\n",
    "                                            min_test_points = C.min_test_points,\n",
    "                                            max_train_points = C.max_train_points,\n",
    "                                            max_test_points = C.max_test_points,\n",
    "                                            device = 'cpu'\n",
    "                                            )\n",
    "\n",
    "# task = gen_val.generate_task()\n",
    "# fig = plt.figure(figsize=(24, 5))\n",
    "# for i in range(3):\n",
    "#     plt.subplot(1, 3, i + 1)\n",
    "#     plot_task(task, i, legend=i==2)\n",
    "# plt.show()"
   ]
  },
  {
   "cell_type": "code",
   "execution_count": 24,
   "metadata": {},
   "outputs": [],
   "source": [
    "def get_batch_size(x):\n",
    "    if x.__class__ == 'torch.utils.data.dataloader.DataLoader':\n",
    "        return x.dataset.gen.batch_size\n",
    "    else:\n",
    "        return x.batch_size"
   ]
  },
  {
   "cell_type": "code",
   "execution_count": 25,
   "metadata": {
    "colab": {},
    "colab_type": "code",
    "id": "tW8EadNR8uH-",
    "scrolled": true
   },
   "outputs": [],
   "source": [
    "def test(gen_test,model,dist='gaussian',fig_flag=False):\n",
    "    # Compute average task log-likelihood.\n",
    "    ravg = RunningAverage()\n",
    "    ravg_nse = RunningAverage()\n",
    "    \n",
    "    model.eval()\n",
    "    start = time.time()\n",
    "    \n",
    "    with torch.no_grad():\n",
    "        for _, task in enumerate(gen_test):\n",
    "            # torch.cuda.empty_cache()\n",
    "            task = loaded_task(task)\n",
    "            y_loc, y_scale = model(task['x_context'], task['y_context'], task['x_target'], task['y_att'], \n",
    "                                   task['feature'], task['m'], \n",
    "                                   static_masking_rate = static_masking_rate,\n",
    "                                   embedding=C.feature_embedding_flag)        \n",
    "            if dist == 'gaussian':\n",
    "                y_mean, y_std = y_loc, y_scale\n",
    "                obj = -gaussian_logpdf(task['y_target'], y_loc, y_scale, 'batched_mean')\n",
    "            elif dist == 'gamma':\n",
    "                y_mean, y_std = gamma_stats(y_loc, y_scale)\n",
    "                obj = -gamma_logpdf(task['y_target'], y_loc, y_scale, 'batched_mean')\n",
    "            if dist == 'gaussian_fixed':\n",
    "                y_mean, y_std = y_loc, y_scale\n",
    "                obj = -gaussian_logpdf(task['y_target'], y_loc, y_scale/y_scale, 'batched_mean')\n",
    "            \n",
    "            batch_size = get_batch_size(gen_test)\n",
    "            \n",
    "            obj_nse = NSE.nse_tensor(obs=rev_transform_tensor(task['y_target'],mu=q_mu,sigma=q_sigma, scaling='STANRDARD'),\n",
    "                                     mean_obs=rev_transform_tensor(task['y_target_val'],mu=q_mu,sigma=q_sigma, scaling='STANRDARD'),\n",
    "                                     sim=rev_transform_tensor(y_mean,mu=q_mu,sigma=q_sigma, scaling='STANRDARD'))       \n",
    "            \n",
    "            ravg.update(obj.item(), batch_size)\n",
    "            #print(batch_size)\n",
    "            ravg_nse.update(obj_nse.item(), batch_size)\n",
    "\n",
    "    if fig_flag:\n",
    "        fig = plt.figure(figsize=(24, 15))\n",
    "        for i in range(3):\n",
    "            plt.subplot(3, 1, i + 1)\n",
    "            plot_model_task(model, task, C.timeslice, idx=i, legend=i==2, dist=dist)\n",
    "        plt.show()\n",
    "\n",
    "        elapsed = time.time() - start        \n",
    "        print('Test NLL: %.3f -- NSE: %.3f -- time: %.3f' % (ravg.avg, ravg_nse.avg, elapsed))\n",
    "    \n",
    "    return ravg.avg"
   ]
  },
  {
   "cell_type": "markdown",
   "metadata": {
    "colab_type": "text",
    "id": "aH2roeSh8uH3"
   },
   "source": [
    "\n",
    "## Training loop for the model\n",
    "\n",
    "Now we can write a standard PyTorch optimization loop. First, we instantiate an optimizer (here we use an Adam optimizer). Then, we simply iterate for as many epochs as necessary to train the model. Every so often we will print the training error (since the data are generated on the fly, this is also a reasonable estimator for the held out error), and produce a plot demonstrating the model performance. Note that the next block of code will train the model for 100 epochs. This may take some time, and it is highly recommended to do so with a GPU!"
   ]
  },
  {
   "cell_type": "code",
   "execution_count": 26,
   "metadata": {
    "tags": []
   },
   "outputs": [
    {
     "name": "stdout",
     "output_type": "stream",
     "text": [
      "Root: _experiments\\2024-05-12_22-51-59_test-unet\n"
     ]
    }
   ],
   "source": [
    "change_folder = True\n",
    "\n",
    "if change_folder:\n",
    "    experiment_name = 'test_Unet'\n",
    "    wd = WorkingDirectory(generate_root(experiment_name))"
   ]
  },
  {
   "cell_type": "code",
   "execution_count": 27,
   "metadata": {},
   "outputs": [],
   "source": [
    "load_model = False\n",
    "load_dict = False\n",
    "\n",
    "load_root = '_experiments/2020-08-01_22-10-37_k5fold-01-gamma-staticfs-after-encoder-unet'\n",
    "\n",
    "if load_model:\n",
    "    PATH = f'{load_root}/model_best.pth.tar'\n",
    "    #PATH = f'{load_root}/e_61_loss_151.753.pth.tar'\n",
    "    model.load_state_dict(torch.load(PATH))\n",
    "    \n",
    "if load_dict:\n",
    "    a_file = open(os.path.join(load_root,\"loss_dict.pkl\"), \"rb\")\n",
    "    loss_dict = pickle.load(a_file)\n",
    "    a_file.close()\n",
    "    \n",
    "    epoch_list = loss_dict['epochs']\n",
    "    train_obj_list = loss_dict['training_loss'] \n",
    "    train_nse_list = loss_dict['training_nse'] \n",
    "    test_obj_list = loss_dict['test_loss'] "
   ]
  },
  {
   "cell_type": "code",
   "execution_count": 28,
   "metadata": {},
   "outputs": [],
   "source": [
    "reset_epochs = True\n",
    "\n",
    "if reset_epochs:\n",
    "    train_obj_list, train_nse_list, test_obj_list, epoch_list = [], [], [], []"
   ]
  },
  {
   "cell_type": "code",
   "execution_count": 29,
   "metadata": {},
   "outputs": [
    {
     "name": "stdout",
     "output_type": "stream",
     "text": [
      "task does not exist\n",
      "minitask does not exist\n"
     ]
    }
   ],
   "source": [
    "# torch.cuda.empty_cache()\n",
    "try_to_delete(['task','minitask'])"
   ]
  },
  {
   "cell_type": "code",
   "execution_count": 30,
   "metadata": {},
   "outputs": [],
   "source": [
    "gen.batch_size = 32\n",
    "gen_val.batch_size = 32\n",
    "gen_test.batch_size = 32\n",
    "\n",
    "gen.num_tasks = 128\n",
    "gen_val.num_tasks = 64\n",
    "gen_test.num_tasks = 64\n",
    "\n",
    "gen.dropout_rate = 0\n",
    "gen_val.dropout_rate = 0\n",
    "gen_test.dropout_rate = 0\n",
    "static_masking_rate = 0\n",
    "\n",
    "# train_dataloader = DataLoader(dataset=HydroDataset(gen,num_tasks_epoch=128), batch_size=1, num_workers=16, shuffle=True, pin_memory=True)\n",
    "# test_dataloader = DataLoader(dataset=HydroDataset(gen_test,num_tasks_epoch=64), batch_size=1, num_workers=16, shuffle=False, pin_memory=True)\n",
    "# val_dataloader = DataLoader(dataset=HydroDataset(gen_val,num_tasks_epoch=64), batch_size=1, num_workers=16, shuffle=False, pin_memory=True)"
   ]
  },
  {
   "cell_type": "code",
   "execution_count": 31,
   "metadata": {},
   "outputs": [],
   "source": [
    "load_best = False\n",
    "if load_best:\n",
    "    model.load_state_dict(torch.load(os.path.join(wd.root,'model_best.pth.tar')))"
   ]
  },
  {
   "cell_type": "code",
   "execution_count": 32,
   "metadata": {},
   "outputs": [],
   "source": [
    "dist = \"gaussian\""
   ]
  },
  {
   "cell_type": "code",
   "execution_count": null,
   "metadata": {
    "scrolled": true,
    "tags": []
   },
   "outputs": [],
   "source": [
    "# torch.autograd.set_detect_anomaly(False)\n",
    "\n",
    "# Some training hyper-parameters:\n",
    "LEARNING_RATE = 1e-3\n",
    "NUM_EPOCHS = 200\n",
    "PLOT_FREQ = 1\n",
    "\n",
    "plot_model = False\n",
    "\n",
    "if len(epoch_list)>0:\n",
    "    last_epoch = epoch_list[-1]\n",
    "else:\n",
    "    last_epoch = 0\n",
    "\n",
    "# Initialize optimizer\n",
    "opt = torch.optim.Adam(model.parameters(), lr=LEARNING_RATE)\n",
    "\n",
    "# Run the training loop.\n",
    "for epoch in range(NUM_EPOCHS):\n",
    "    # Compute training objective.\n",
    "    start_time = time.time()\n",
    "    train_obj, train_nse = train(gen, model, opt, dist=dist)\n",
    "\n",
    "    epoch_list.append(epoch+last_epoch)\n",
    "    train_obj_list.append(train_obj)\n",
    "    train_nse_list.append(train_nse)\n",
    "    \n",
    "    #torch.cuda.empty_cache()\n",
    "    test_obj = test(gen_test,model,dist=dist)\n",
    "    #torch.cuda.empty_cache()\n",
    "    test_obj_list.append(test_obj)\n",
    "    \n",
    "    elapsed = time.time() - start_time\n",
    "    \n",
    "    # Plot model behaviour every now and again.\n",
    "    if (epoch % PLOT_FREQ == 0) and plot_model:\n",
    "        \n",
    "        task = task_to_device(gen_val.generate_task())\n",
    "        fig = plt.figure(figsize=(24, 5))\n",
    "        \n",
    "        for i in range(1):\n",
    "            plt.subplot(1, 1, i + 1)\n",
    "            plot_model_task(model, task, timeslice=C.timeslice, idx=i, legend=i==2, dist=dist)\n",
    "        \n",
    "        plt.title('Test set')\n",
    "        display.clear_output(wait=True)\n",
    "\n",
    "\n",
    "    print('Epoch %s ¦ train NLL: %.3f ¦ test NLL: %.3f ¦ train NSE: %.3f ¦ time: %.3f' % (epoch + last_epoch, train_obj, test_obj, train_nse, elapsed))\n",
    "\n",
    "    plot_training_loss(train_obj_list, test_obj_list)\n",
    "    plt.show()\n",
    "    \n",
    "    save_as_best = True if test_obj == min(test_obj_list) else False\n",
    "    save_checkpoint(wd,model.state_dict(),is_best=save_as_best)\n",
    "    \n",
    "    PATH = os.path.join(wd.root,'e_%s_loss_%.3f.pth.tar' % (epoch + last_epoch, test_obj))\n",
    "    torch.save(model.state_dict(), PATH)"
   ]
  },
  {
   "cell_type": "code",
   "execution_count": 38,
   "metadata": {},
   "outputs": [
    {
     "name": "stdout",
     "output_type": "stream",
     "text": [
      "Saved successfuly\n"
     ]
    }
   ],
   "source": [
    "save_dict = True\n",
    "\n",
    "if save_dict:\n",
    "    model_hyperparams={}\n",
    "    model_hyperparams['lr'] = LEARNING_RATE\n",
    "    model_hyperparams['distribution'] = dist\n",
    "    model_hyperparams['train_batch_size'] = gen.batch_size\n",
    "    #model_hyperparams['batches_per_epoch'] = gen.num_tasks_epoch\n",
    "    model_hyperparams['static_masking_rate'] = C.static_masking_rate\n",
    "    model_hyperparams['dynamic masking rate'] = gen.dropout_rate\n",
    "    model_hyperparams['static_embedding_dims'] = C.static_embedding_dims\n",
    "    model_hyperparams['dynamic_embedding_dims'] = C.dynamic_embedding_dims\n",
    "\n",
    "    a_file = open(os.path.join(wd.root,\"model_hyperparams.pkl\"), \"wb\")\n",
    "    pickle.dump(model_hyperparams, a_file)\n",
    "    a_file.close()\n",
    "    print('Saved successfuly')\n"
   ]
  },
  {
   "cell_type": "code",
   "execution_count": 39,
   "metadata": {},
   "outputs": [
    {
     "name": "stdout",
     "output_type": "stream",
     "text": [
      "Saved successfuly\n"
     ]
    }
   ],
   "source": [
    "save_dict = True\n",
    "\n",
    "if save_dict:\n",
    "    loss_dict={}\n",
    "    loss_dict['epochs'] = epoch_list\n",
    "    loss_dict['training_loss'] = train_obj_list\n",
    "    loss_dict['training_nse'] = train_nse_list\n",
    "    loss_dict['test_loss'] = test_obj_list\n",
    "\n",
    "    a_file = open(os.path.join(wd.root,\"loss_dict.pkl\"), \"wb\")\n",
    "    pickle.dump(loss_dict, a_file)\n",
    "    a_file.close()\n",
    "    print('Saved successfuly')\n",
    "    "
   ]
  },
  {
   "cell_type": "code",
   "execution_count": 40,
   "metadata": {},
   "outputs": [
    {
     "data": {
      "image/png": "[encoded data removed]",
      "text/plain": [
       "<Figure size 640x480 with 1 Axes>"
      ]
     },
     "metadata": {},
     "output_type": "display_data"
    }
   ],
   "source": [
    "plt.plot(train_obj_list)\n",
    "plt.plot(test_obj_list)\n",
    "#plt.ylim([-100,100])\n",
    "plt.show()"
   ]
  },
  {
   "cell_type": "markdown",
   "metadata": {},
   "source": [
    "## Test model"
   ]
  },
  {
   "cell_type": "code",
   "execution_count": 42,
   "metadata": {},
   "outputs": [
    {
     "data": {
      "text/plain": [
       "<All keys matched successfully>"
      ]
     },
     "execution_count": 42,
     "metadata": {},
     "output_type": "execute_result"
    }
   ],
   "source": [
    "ROOT_PATH = r'_experiments\\2024-05-12_22-51-59_test-unet'\n",
    "model.load_state_dict(torch.load(os.path.join(ROOT_PATH, 'model_best.pth.tar')))"
   ]
  },
  {
   "cell_type": "code",
   "execution_count": 43,
   "metadata": {},
   "outputs": [
    {
     "name": "stdout",
     "output_type": "stream",
     "text": [
      "task does not exist\n"
     ]
    }
   ],
   "source": [
    "# torch.cuda.empty_cache()\n",
    "# try_to_delete(['task'])"
   ]
  },
  {
   "cell_type": "code",
   "execution_count": 44,
   "metadata": {},
   "outputs": [],
   "source": [
    "# x = i['x'][0,0,:,0]\n",
    "# xt = i['x_target'][0,0,:,0]\n",
    "# y = rev_transform_tensor(i['y'][0,0,:,0],mu=q_mu,sigma=q_sigma, scaling='STANRDARD')\n",
    "# yt = rev_transform_tensor(i['y_target'][0,0,:,0],mu=q_mu,sigma=q_sigma, scaling='STANRDARD')\n",
    "# y_mean = rev_transform_tensor(i['y_target_val'][0,0,:,0],mu=q_mu,sigma=q_sigma, scaling='STANRDARD')\n",
    "# plt.plot(x,y,'o',label='1')\n",
    "# plt.plot(xt,y_mean,'.',label='2')\n",
    "# plt.plot([0,1],[y.mean(),y.mean()],label='3')\n",
    "# plt.plot([0,1],[yt.mean(),yt.mean()],label='4')\n",
    "# plt.legend()\n",
    "# plt.show()\n"
   ]
  },
  {
   "cell_type": "code",
   "execution_count": 45,
   "metadata": {
    "scrolled": true,
    "tags": []
   },
   "outputs": [
    {
     "ename": "NameError",
     "evalue": "name 'y_mean_NSE' is not defined",
     "output_type": "error",
     "traceback": [
      "\u001b[1;31m---------------------------------------------------------------------------\u001b[0m",
      "\u001b[1;31mNameError\u001b[0m                                 Traceback (most recent call last)",
      "Cell \u001b[1;32mIn[45], line 25\u001b[0m\n\u001b[0;32m      1\u001b[0m gen_for_test \u001b[38;5;241m=\u001b[39m data_hydro_2_extended\u001b[38;5;241m.\u001b[39mHydroGenerator(\n\u001b[0;32m      2\u001b[0m                                             dataframe\u001b[38;5;241m=\u001b[39mdf_test_both,\n\u001b[0;32m      3\u001b[0m                                             df_att \u001b[38;5;241m=\u001b[39m df_att,\n\u001b[1;32m   (...)\u001b[0m\n\u001b[0;32m     20\u001b[0m                                             device\u001b[38;5;241m=\u001b[39m\u001b[38;5;124m'\u001b[39m\u001b[38;5;124mcpu\u001b[39m\u001b[38;5;124m'\u001b[39m,\n\u001b[0;32m     21\u001b[0m                                             )\n\u001b[0;32m     24\u001b[0m \u001b[38;5;66;03m# tester = DataLoader(dataset=HydroDataset(gen_for_test,num_tasks_epoch=1), batch_size=1, shuffle=False, num_workers=1, pin_memory=False)\u001b[39;00m\n\u001b[1;32m---> 25\u001b[0m \u001b[43mtest\u001b[49m\u001b[43m(\u001b[49m\u001b[43mgen_for_test\u001b[49m\u001b[43m,\u001b[49m\u001b[43mmodel\u001b[49m\u001b[43m,\u001b[49m\u001b[43mdist\u001b[49m\u001b[38;5;241;43m=\u001b[39;49m\u001b[43mdist\u001b[49m\u001b[43m,\u001b[49m\u001b[43mfig_flag\u001b[49m\u001b[38;5;241;43m=\u001b[39;49m\u001b[38;5;28;43;01mTrue\u001b[39;49;00m\u001b[43m)\u001b[49m\n",
      "Cell \u001b[1;32mIn[25], line 41\u001b[0m, in \u001b[0;36mtest\u001b[1;34m(gen_test, model, dist, fig_flag)\u001b[0m\n\u001b[0;32m     39\u001b[0m \u001b[38;5;28;01mfor\u001b[39;00m i \u001b[38;5;129;01min\u001b[39;00m \u001b[38;5;28mrange\u001b[39m(\u001b[38;5;241m3\u001b[39m):\n\u001b[0;32m     40\u001b[0m     plt\u001b[38;5;241m.\u001b[39msubplot(\u001b[38;5;241m3\u001b[39m, \u001b[38;5;241m1\u001b[39m, i \u001b[38;5;241m+\u001b[39m \u001b[38;5;241m1\u001b[39m)\n\u001b[1;32m---> 41\u001b[0m     \u001b[43mplot_model_task\u001b[49m\u001b[43m(\u001b[49m\u001b[43mmodel\u001b[49m\u001b[43m,\u001b[49m\u001b[43m \u001b[49m\u001b[43mtask\u001b[49m\u001b[43m,\u001b[49m\u001b[43m \u001b[49m\u001b[43mC\u001b[49m\u001b[38;5;241;43m.\u001b[39;49m\u001b[43mtimeslice\u001b[49m\u001b[43m,\u001b[49m\u001b[43m \u001b[49m\u001b[43midx\u001b[49m\u001b[38;5;241;43m=\u001b[39;49m\u001b[43mi\u001b[49m\u001b[43m,\u001b[49m\u001b[43m \u001b[49m\u001b[43mlegend\u001b[49m\u001b[38;5;241;43m=\u001b[39;49m\u001b[43mi\u001b[49m\u001b[38;5;241;43m==\u001b[39;49m\u001b[38;5;241;43m2\u001b[39;49m\u001b[43m,\u001b[49m\u001b[43m \u001b[49m\u001b[43mdist\u001b[49m\u001b[38;5;241;43m=\u001b[39;49m\u001b[43mdist\u001b[49m\u001b[43m)\u001b[49m\n\u001b[0;32m     42\u001b[0m plt\u001b[38;5;241m.\u001b[39mshow()\n\u001b[0;32m     44\u001b[0m elapsed \u001b[38;5;241m=\u001b[39m time\u001b[38;5;241m.\u001b[39mtime() \u001b[38;5;241m-\u001b[39m start        \n",
      "File \u001b[1;32mc:\\Users\\Sior AMD-4\\repos\\hydro-nps\\plot_utils.py:65\u001b[0m, in \u001b[0;36mplot_model_task\u001b[1;34m(model, task, timeslice, idx, legend, dist, feature_embedding_flag)\u001b[0m\n\u001b[0;32m     62\u001b[0m     p05, p95 \u001b[38;5;241m=\u001b[39m y_mean \u001b[38;5;241m+\u001b[39m \u001b[38;5;241m2\u001b[39m \u001b[38;5;241m*\u001b[39m y_std, y_mean \u001b[38;5;241m-\u001b[39m \u001b[38;5;241m2\u001b[39m \u001b[38;5;241m*\u001b[39m y_std\n\u001b[0;32m     63\u001b[0m     \u001b[38;5;66;03m#y_mean_NSE, y_std_NSE = y_loc_NSE, y_scale_NSE\u001b[39;00m\n\u001b[1;32m---> 65\u001b[0m nse \u001b[38;5;241m=\u001b[39m NSE\u001b[38;5;241m.\u001b[39mnse(rev_transform(y_target), rev_transform(y_target_val), rev_transform(\u001b[43my_mean_NSE\u001b[49m))\n\u001b[0;32m     66\u001b[0m \u001b[38;5;66;03m#log_nse = NSE.nse(y_mean_NSE, y_target_val, y_target)\u001b[39;00m\n\u001b[0;32m     68\u001b[0m x_context \u001b[38;5;241m=\u001b[39m x_context\u001b[38;5;241m*\u001b[39mtimeslice\n",
      "\u001b[1;31mNameError\u001b[0m: name 'y_mean_NSE' is not defined"
     ]
    },
    {
     "data": {
      "image/png": "[encoded data removed]",
      "text/plain": [
       "<Figure size 2400x1500 with 1 Axes>"
      ]
     },
     "metadata": {},
     "output_type": "display_data"
    }
   ],
   "source": [
    "gen_for_test = data_hydro_2_extended.HydroGenerator(\n",
    "                                            dataframe=df_test_both,\n",
    "                                            df_att = df_att,\n",
    "                                            batch_size = 16,\n",
    "                                            num_tasks = 32,\n",
    "                                            channels_c = C.context_channels,\n",
    "                                            channels_t = C.target_channels,\n",
    "                                            channels_att = C.attributes,\n",
    "                                            channels_t_val = C.target_val_channel,\n",
    "                                            context_mask = C.context_mask,\n",
    "                                            target_mask = C.target_mask,\n",
    "                                            extrapolate = True,\n",
    "                                            timeslice = C.timeslice,\n",
    "                                            dropout_rate = 0,\n",
    "                                            concat_static_features = False,\n",
    "                                            min_train_points = 90,\n",
    "                                            min_test_points = 1,\n",
    "                                            max_train_points = 91,\n",
    "                                            max_test_points = 1,\n",
    "                                            device='cpu',\n",
    "                                            )\n",
    "        \n",
    "\n",
    "# tester = DataLoader(dataset=HydroDataset(gen_for_test,num_tasks_epoch=1), batch_size=1, shuffle=False, num_workers=1, pin_memory=False)\n",
    "test(gen_for_test,model,dist=dist,fig_flag=True)"
   ]
  },
  {
   "cell_type": "markdown",
   "metadata": {
    "colab_type": "text",
    "id": "q6e4fb7J8uH9"
   },
   "source": [
    "## Evaluation \n",
    "\n",
    "We can also evaluate the trained model to get better estimates of its performance. To do so, we will first introduce an additional data generator that will generate far more tasks for us. Then, we will loop over many tasks, and compute (and print) the average log-likelihood."
   ]
  },
  {
   "cell_type": "code",
   "execution_count": null,
   "metadata": {},
   "outputs": [],
   "source": [
    "\"\"\"%%capture\n",
    "#load model\n",
    "##model = TheModelClass(*args, **kwargs)\n",
    "PATH = '../../saved_models/model_022.pt'\n",
    "model.load_state_dict(torch.load(PATH))\n",
    "model.eval()\"\"\""
   ]
  },
  {
   "cell_type": "code",
   "execution_count": null,
   "metadata": {},
   "outputs": [],
   "source": [
    "\"\"\"model_number = 23\n",
    "save_model_name = f'model_{model_number}_{dist}_static-features_{static_embedding_location}_{s_date_tr}_to_{e_date_tr}'\n",
    "save_model_name\"\"\""
   ]
  },
  {
   "cell_type": "code",
   "execution_count": null,
   "metadata": {},
   "outputs": [],
   "source": [
    "\"\"\"PATH = r'..\\..\\saved_models\\model_022.pt'\n",
    "torch.save(model.state_dict(),PATH)\"\"\""
   ]
  },
  {
   "cell_type": "code",
   "execution_count": 57,
   "metadata": {},
   "outputs": [
    {
     "data": {
      "text/plain": [
       "<All keys matched successfully>"
      ]
     },
     "execution_count": 57,
     "metadata": {},
     "output_type": "execute_result"
    }
   ],
   "source": [
    "ROOT_PATH = r'_experiments\\2024-05-12_22-51-59_test-unet\\e_132_loss_-18.188.pth.tar'\n",
    "#PATH = f'{ROOT_PATH}/model_best.pth.tar'\n",
    "model.load_state_dict(torch.load(ROOT_PATH))"
   ]
  },
  {
   "cell_type": "markdown",
   "metadata": {},
   "source": [
    "## Test NSE performance at 365/1-day ahead task"
   ]
  },
  {
   "cell_type": "code",
   "execution_count": 59,
   "metadata": {
    "scrolled": true
   },
   "outputs": [],
   "source": [
    "# from metrics import *\n",
    "# import scipy.stats\n",
    "df_test = df_test_temporal"
   ]
  },
  {
   "cell_type": "code",
   "execution_count": 53,
   "metadata": {},
   "outputs": [],
   "source": [
    "# var_list = ['minitask','task']\n",
    "# try_to_delete(var_list)"
   ]
  },
  {
   "cell_type": "code",
   "execution_count": 112,
   "metadata": {},
   "outputs": [],
   "source": [
    "task_1 = gen_365.generate_test_task(year=1996, basin='hru_01022500')"
   ]
  },
  {
   "cell_type": "code",
   "execution_count": null,
   "metadata": {},
   "outputs": [],
   "source": [
    "# Instantiate data generator for testing.\n",
    "NUM_TEST_TASKS = 10\n",
    "gen_365 = data_hydro_2_extended.HydroGenerator(\n",
    "                                            dataframe=df_test,\n",
    "                                            df_att = df_att,\n",
    "                                            batch_size = 16,\n",
    "                                            num_tasks = NUM_TEST_TASKS,\n",
    "                                            channels_c = C.context_channels,\n",
    "                                            channels_t = C.target_channels,\n",
    "                                            channels_att = C.attributes,\n",
    "                                            channels_t_val = C.target_val_channel,\n",
    "                                            context_mask = C.context_mask,\n",
    "                                            target_mask = C.target_mask,\n",
    "                                            concat_static_features = C.concat_static_features,\n",
    "                                            extrapolate = True,\n",
    "                                            timeslice = 90,\n",
    "                                            min_train_points=89,\n",
    "                                            min_test_points=1,\n",
    "                                            max_train_points=89,\n",
    "                                            max_test_points=1,\n",
    "                                            device='cpu')\n",
    "\n",
    "out = np.array([])\n",
    "out_2 = np.array([])\n",
    "\n",
    "# Compute average task log-likelihood.\n",
    "basins = df_test['hru08'].unique().tolist()\n",
    "print(len(basins))\n",
    "b=0\n",
    "for basin in basins[:]:\n",
    "\n",
    "    b+=1\n",
    "    \n",
    "    # ravg = RunningAverage()\n",
    "    # ravg_nse = RunningAverage()\n",
    "    # model.eval()\n",
    "    # start = time.time()\n",
    "    \n",
    "    # pred_mu = np.array([])\n",
    "    # pred_mu2 = np.array([])\n",
    "    # pred_sigma = np.array([])\n",
    "    # pred_loc = np.array([])\n",
    "    # pred_scale = np.array([])\n",
    "    # observations = np.array([])\n",
    "    # DOY = np.array([])\n",
    "    # YR = np.array([])\n",
    "    # HRU = np.array([])\n",
    "    \n",
    "    # alpha_nse = np.array([])\n",
    "    # beta_nse = np.array([])\n",
    "    # nse_index = np.array([])\n",
    "    # fhv = np.array([])\n",
    "    # flv = np.array([])\n",
    "    # fms = np.array([])\n",
    "    \n",
    "    obs_basin = np.array([])\n",
    "    mean_obs_basin = np.array([])\n",
    "    sim_basin = np.array([])\n",
    "\n",
    "    with torch.no_grad():    \n",
    "        years = df_test['YR'][df_test['hru08']==basin].unique().tolist()\n",
    "        years = sorted(years)[1:]\n",
    "        \n",
    "        for year in years:\n",
    "\n",
    "            if year != 2000:\n",
    "                continue\n",
    "\n",
    "            start = time.time()\n",
    "            \n",
    "            task = gen_365.generate_test_task(year=year, basin=basin)\n",
    "\n",
    "            # elapsed = time.time() - start\n",
    "            # print(f'Generator: {elapsed}')\n",
    "            # start = time.time()\n",
    "\n",
    "            task = loaded_task(task=task, device='cuda')\n",
    "\n",
    "            y_mean, y_std = model(task['x_context'], task['y_context'], \n",
    "                                      task['x_target'],task['y_att'], \n",
    "                                      task['feature'],task['m'],\n",
    "                                      static_masking_rate=0,\n",
    "                                      embedding=C.feature_embedding_flag)\n",
    "                                \n",
    "            if dist == 'gaussian':\n",
    "                obj = -gaussian_logpdf(task['y_target'], y_mean, y_std, 'batched_mean')\n",
    "            elif dist == 'gaussian_fixed':\n",
    "                obj = -gaussian_logpdf(task['y_target'], y_mean, y_std/y_std, 'batched_mean')\n",
    "            elif dist == 'gamma':\n",
    "                obj = -gamma_logpdf(task['y_target'], y_mean, y_std, 'batched_mean')\n",
    "            \n",
    "            #y_mu, y_sigma = rev_lognormal(to_numpy(y_mean), to_numpy(y_std))\n",
    "            \n",
    "            if dist == 'gamma':\n",
    "                y_loc = y_mean\n",
    "                y_scale = y_std\n",
    "                g_mean = torch.distributions.gamma.Gamma(y_mean, y_std).mean\n",
    "                g_var = torch.distributions.gamma.Gamma(y_mean, y_std).variance\n",
    "                y_mean = g_mean\n",
    "                y_std = torch.sqrt(g_var)\n",
    "\n",
    "            obs = rev_transform(task['y_target'].flatten().cpu().numpy(), mu=q_mu, sigma=q_sigma)\n",
    "            mean_obs = rev_transform(task['y_target_val'].flatten().cpu().numpy(), mu=q_mu, sigma=q_sigma)\n",
    "            sim = rev_transform(y_mean.flatten().cpu().numpy(), mu=q_mu, sigma=q_sigma)\n",
    "\n",
    "            obs_basin = np.concatenate((obs_basin,obs),axis=0)\n",
    "            mean_obs_basin = np.concatenate((mean_obs_basin, mean_obs),axis=0)\n",
    "            sim_basin = np.concatenate((sim_basin, sim), axis=0)\n",
    "\n",
    "            # elapsed = time.time() - start\n",
    "            # print(f'Model: {elapsed}')\n",
    "\n",
    "            # print(year,basin)\n",
    "\n",
    "            # plt.figure(figsize=(20,5))\n",
    "            # plt.plot(obs,label='obs')\n",
    "            # plt.plot(sim, label='sim')\n",
    "            # plt.legend()\n",
    "            # plt.show()\n",
    "\n",
    "    try:\n",
    "        nse = NSE.nse(obs=obs_basin\n",
    "                ,mean_obs=mean_obs_basin\n",
    "                ,sim=sim_basin)\n",
    "        print(basin, nse)\n",
    "    except:\n",
    "        print(basin, \"NSE can't be calculated\")\n",
    "        "
   ]
  },
  {
   "cell_type": "code",
   "execution_count": 62,
   "metadata": {},
   "outputs": [],
   "source": [
    "importlib.reload(convcnp.transformations)\n",
    "from convcnp.transformations import rev_lognormal"
   ]
  },
  {
   "cell_type": "code",
   "execution_count": 64,
   "metadata": {},
   "outputs": [],
   "source": [
    "df_output = pd.DataFrame(out,columns=['HRU','YR','DOY','OBS_RUN','MOD_RUN_MU','MOD_RUN_SIGMA','PRED_LOC','PRED_SCALE'])\n",
    "df_output_2 = pd.DataFrame(out_2, columns=['alpha_nse','beta_nse','nse_index','fhv','flv','fms'])"
   ]
  },
  {
   "cell_type": "code",
   "execution_count": 65,
   "metadata": {},
   "outputs": [],
   "source": [
    "PATH = '_experiments/2020-08-02_00-31-53_k5fold-01-gamma-staticfs-after-encoder-unet'\n",
    "df_output.to_csv(os.path.join(PATH,f'results_PGB_model_best_epoch_85.csv'),index=False)\n",
    "df_output_2.to_csv(os.path.join(PATH,f'metrics_PGB_model_best_epoch_85.csv'),index=False)"
   ]
  },
  {
   "cell_type": "code",
   "execution_count": 66,
   "metadata": {},
   "outputs": [
    {
     "data": {
      "text/plain": [
       "'df_output_test_both_40basins = df_output.copy()\\ndf_output_test_both_40basins_2 = df_output_2.copy()'"
      ]
     },
     "execution_count": 66,
     "metadata": {},
     "output_type": "execute_result"
    }
   ],
   "source": [
    "\"\"\"df_output_test_both_40basins = df_output.copy()\n",
    "df_output_test_both_40basins_2 = df_output_2.copy()\"\"\""
   ]
  },
  {
   "cell_type": "code",
   "execution_count": 67,
   "metadata": {},
   "outputs": [
    {
     "name": "stdout",
     "output_type": "stream",
     "text": [
      "424\n"
     ]
    },
    {
     "name": "stderr",
     "output_type": "stream",
     "text": [
      "/home/donal/miniconda3/lib/python3.7/site-packages/numpy/lib/histograms.py:839: RuntimeWarning: invalid value encountered in greater_equal\n",
      "  keep = (tmp_a >= first_edge)\n",
      "/home/donal/miniconda3/lib/python3.7/site-packages/numpy/lib/histograms.py:840: RuntimeWarning: invalid value encountered in less_equal\n",
      "  keep &= (tmp_a <= last_edge)\n",
      "/home/donal/miniconda3/lib/python3.7/site-packages/numpy/lib/histograms.py:839: RuntimeWarning: invalid value encountered in greater_equal\n",
      "  keep = (tmp_a >= first_edge)\n",
      "/home/donal/miniconda3/lib/python3.7/site-packages/numpy/lib/histograms.py:840: RuntimeWarning: invalid value encountered in less_equal\n",
      "  keep &= (tmp_a <= last_edge)\n",
      "/home/donal/miniconda3/lib/python3.7/site-packages/numpy/lib/histograms.py:839: RuntimeWarning: invalid value encountered in greater_equal\n",
      "  keep = (tmp_a >= first_edge)\n",
      "/home/donal/miniconda3/lib/python3.7/site-packages/numpy/lib/histograms.py:840: RuntimeWarning: invalid value encountered in less_equal\n",
      "  keep &= (tmp_a <= last_edge)\n",
      "/home/donal/miniconda3/lib/python3.7/site-packages/numpy/lib/histograms.py:839: RuntimeWarning: invalid value encountered in greater_equal\n",
      "  keep = (tmp_a >= first_edge)\n",
      "/home/donal/miniconda3/lib/python3.7/site-packages/numpy/lib/histograms.py:840: RuntimeWarning: invalid value encountered in less_equal\n",
      "  keep &= (tmp_a <= last_edge)\n"
     ]
    },
    {
     "data": {
      "image/png": "[encoded data removed]",
      "text/plain": [
       "<Figure size 1440x1080 with 6 Axes>"
      ]
     },
     "metadata": {
      "needs_background": "light"
     },
     "output_type": "display_data"
    }
   ],
   "source": [
    "hrus = df_output['HRU'].unique()\n",
    "nse_array = np.array([])\n",
    "for hru in hrus:\n",
    "    df_hru = df_output[df_output['HRU']==hru]\n",
    "    obs = rev_transform(df_hru['OBS_RUN'].values.astype(np.float))\n",
    "    mean_obs = np.ones(len(obs))*obs.mean()\n",
    "    #print(mean_obs)\n",
    "    mod = rev_transform(df_hru['MOD_RUN_MU'].values.astype(np.float))\n",
    "    nse_array = np.append(nse_array, NSE.nse(obs,mean_obs,mod))\n",
    "\n",
    "#print(f\"Median NSE = {np.median(nse_array)}\")\n",
    "#print(f\"Mean NSE = {nse_array.mean()}\")\n",
    "#print(f\"NSE std = {nse_array.std()}\")\n",
    "print(len(nse_array))\n",
    "\n",
    "list_metrics = ['nse_index','alpha_nse','beta_nse','fhv','flv','fms']\n",
    "\n",
    "i = 0\n",
    "fig = plt.figure(figsize=[20,15])\n",
    "for m in list_metrics:\n",
    "    i += 1\n",
    "    plt.subplot(2,3,i)\n",
    "    plt.hist(df_output_2[m], bins=50, density=True, \n",
    "         histtype='stepfilled',\n",
    "         cumulative=True)\n",
    "    plt.grid()\n",
    "    \n",
    "    plt.ylabel(\"cdf\",fontsize = 14)\n",
    "    plt.xlabel(m,fontsize=14)\n",
    "    plt.title(\"%s: mu=%.2f; med=%.2f; std=%.2f \\n min=%.2f; max=%.2f\" % (m, df_output_2[m].mean(), df_output_2[m].median(), df_output_2[m].std(), df_output_2[m].min(), df_output_2[m].max()), fontsize=16)\n",
    "    #plt.show()"
   ]
  },
  {
   "cell_type": "code",
   "execution_count": 68,
   "metadata": {},
   "outputs": [
    {
     "data": {
      "text/plain": [
       "Index(['HRU', 'YR', 'DOY', 'OBS_RUN', 'MOD_RUN_MU', 'MOD_RUN_SIGMA',\n",
       "       'PRED_LOC', 'PRED_SCALE'],\n",
       "      dtype='object')"
      ]
     },
     "execution_count": 68,
     "metadata": {},
     "output_type": "execute_result"
    }
   ],
   "source": [
    "df_output.columns"
   ]
  },
  {
   "cell_type": "code",
   "execution_count": 139,
   "metadata": {},
   "outputs": [
    {
     "ename": "NameError",
     "evalue": "name 'df_output' is not defined",
     "output_type": "error",
     "traceback": [
      "\u001b[1;31m---------------------------------------------------------------------------\u001b[0m",
      "\u001b[1;31mNameError\u001b[0m                                 Traceback (most recent call last)",
      "Cell \u001b[1;32mIn[139], line 5\u001b[0m\n\u001b[0;32m      3\u001b[0m time_slice \u001b[38;5;241m=\u001b[39m \u001b[38;5;241m365\u001b[39m\n\u001b[0;32m      4\u001b[0m x \u001b[38;5;241m=\u001b[39m np\u001b[38;5;241m.\u001b[39marange(time_slice)\n\u001b[1;32m----> 5\u001b[0m hru_list \u001b[38;5;241m=\u001b[39m \u001b[43mdf_output\u001b[49m[\u001b[38;5;124m'\u001b[39m\u001b[38;5;124mHRU\u001b[39m\u001b[38;5;124m'\u001b[39m]\u001b[38;5;241m.\u001b[39munique()\n\u001b[0;32m      6\u001b[0m rand \u001b[38;5;241m=\u001b[39m np\u001b[38;5;241m.\u001b[39mrandom\u001b[38;5;241m.\u001b[39mrandint(\u001b[38;5;28mlen\u001b[39m(hru_list))\n\u001b[0;32m      7\u001b[0m hru_rand \u001b[38;5;241m=\u001b[39m hru_list[rand]\n",
      "\u001b[1;31mNameError\u001b[0m: name 'df_output' is not defined"
     ]
    },
    {
     "data": {
      "text/plain": [
       "<Figure size 2000x2000 with 0 Axes>"
      ]
     },
     "metadata": {},
     "output_type": "display_data"
    }
   ],
   "source": [
    "fig = plt.figure(figsize=[20,20])\n",
    "for j in range(10):\n",
    "    \n",
    "    time_slice = 365\n",
    "    x = np.arange(time_slice)\n",
    "    hru_list = df_output['HRU'].unique()\n",
    "    rand = np.random.randint(len(hru_list))\n",
    "    hru_rand = hru_list[rand]\n",
    "\n",
    "    i = np.random.randint(len(df_output['OBS_RUN'][df_output['HRU']==hru_rand])-time_slice)\n",
    "    print(i)\n",
    "\n",
    "    #fig = plt.figure(figsize=(24, 5))\n",
    "\n",
    "    obs = df_output['OBS_RUN'][df_output['HRU']==hru_rand][i:i+time_slice].values.astype(np.float)\n",
    "    pred_mu = df_output['MOD_RUN_MU'][df_output['HRU']==hru_rand][i:i+time_slice].values.astype(np.float)\n",
    "    pred_sigma = df_output['MOD_RUN_SIGMA'][df_output['HRU']==hru_rand][i:i+time_slice].values.astype(np.float)\n",
    "    doy = df_output['DOY'][df_output['HRU']==hru_rand][i:i+time_slice].values.astype(np.float)\n",
    "\n",
    "    if dist=='gamma':\n",
    "        pred_loc = df_output['PRED_LOC'][df_output['HRU']==hru_rand][i:i+time_slice].values.astype(np.float)\n",
    "        pred_scale = df_output['PRED_SCALE'][df_output['HRU']==hru_rand][i:i+time_slice].values.astype(np.float)\n",
    "    \n",
    "    plt.subplot(5,2,j+1)\n",
    "    \n",
    "    # Plot model predictions.\n",
    "    plt.plot(x,obs, label='Observed', color='green')\n",
    "    plt.plot(x,rev_transform(pred_mu), label='Model Output', color='blue')\n",
    "\n",
    "    show_std = True\n",
    "\n",
    "    if show_std:\n",
    "        if dist=='gaussian':\n",
    "            plt.fill_between(x,\n",
    "                             rev_transform(pred_mu + 2 * pred_sigma),\n",
    "                             rev_transform(pred_mu - 2 * pred_sigma),\n",
    "                             color='tab:blue', alpha=0.2)\n",
    "\n",
    "        elif dist=='gamma':\n",
    "            p05 = rev_transform(scipy.stats.gamma.ppf(0.05, pred_loc, 0, 1/pred_scale))\n",
    "            p95 = rev_transform(scipy.stats.gamma.ppf(0.95, pred_loc, 0, 1/pred_scale))\n",
    "            p05[p05<0]=0\n",
    "            #pdb.set_trace()\n",
    "            plt.fill_between(x,\n",
    "                            p05,\n",
    "                            p95,\n",
    "                            color='tab:blue', alpha=0.2)\n",
    "\n",
    "    NSE = calc_nse(obs,rev_transform(pred_mu))\n",
    "    plt.title(\"NSE = %.3f\" % NSE, fontsize = 15)\n",
    "    \n",
    "    plt.xlim([0,time_slice])\n",
    "    if (j+2)%2==0:\n",
    "        plt.ylabel('Discharge (m3/s)', fontsize=15)\n",
    "    plt.legend()\n",
    "    plt.tight_layout()\n",
    "    #plt.show()\n",
    "    \n",
    "SAVE_PATH  = '/home/donal/Documents/mg963/MResProject/figures'\n",
    "plt.savefig(os.path.join(SAVE_PATH,('timeseries_gamma_PGB_%s.png' % (np.random.randint(100000)))), dpi=500, bbox_inches='tight') # 6"
   ]
  },
  {
   "cell_type": "markdown",
   "metadata": {},
   "source": [
    "## Test with known datanse_array"
   ]
  },
  {
   "cell_type": "code",
   "execution_count": null,
   "metadata": {},
   "outputs": [],
   "source": [
    "import pickle\n",
    "path = \"test_tasks/generate_test_task_0.pkl\"\n",
    "a_file = open(path, \"rb\")\n",
    "task = pickle.load(a_file)\n",
    "a_file.close()"
   ]
  },
  {
   "cell_type": "code",
   "execution_count": null,
   "metadata": {},
   "outputs": [],
   "source": [
    "import importlib\n",
    "importlib.reload(convcnp.feature_mask)"
   ]
  },
  {
   "cell_type": "code",
   "execution_count": null,
   "metadata": {},
   "outputs": [],
   "source": [
    "#import convcnp.feature_mask as mask\n",
    "task = mask.task_mask(task, context_mask, target_mask)"
   ]
  },
  {
   "cell_type": "code",
   "execution_count": null,
   "metadata": {},
   "outputs": [],
   "source": [
    "# Compute average task log-likelihood.\n",
    "batch_size = task['x_context'].shape[0]\n",
    "ravg = RunningAverage()\n",
    "model.eval()\n",
    "with torch.no_grad():\n",
    "    y_mean, y_std = model(task['x_context'], task['y_context'], task['x_target'],task['f'],task['m'],embedding=C.feature_embedding_flag)\n",
    "    obj = -gaussian_logpdf(task['y_target'], y_mean, y_std, 'batched_mean')\n",
    "        \n",
    "    ravg.update(obj.item() / gen_test.batch_size, gen_test.batch_size)\n",
    "        \n",
    "    fig = plt.figure(figsize=(24, 25))\n",
    "    for i in range(5):\n",
    "        plt.subplot(5, 1, i + 1)\n",
    "        plot_model_task(model, task, idx=i, legend=i==2)\n",
    "    plt.show()\n",
    "    \n",
    "elapsed = time.time() - start        \n",
    "print('Model averages a log likelihood of %.3f on unseen tasks -- time: %.3f' % (-ravg.avg, elapsed))"
   ]
  }
 ],
 "metadata": {
  "accelerator": "GPU",
  "colab": {
   "collapsed_sections": [],
   "machine_shape": "hm",
   "name": "convcnp_regression_colab.ipynb",
   "provenance": []
  },
  "kernelspec": {
   "display_name": "Python 3",
   "language": "python",
   "name": "python3"
  },
  "language_info": {
   "codemirror_mode": {
    "name": "ipython",
    "version": 3
   },
   "file_extension": ".py",
   "mimetype": "text/x-python",
   "name": "python",
   "nbconvert_exporter": "python",
   "pygments_lexer": "ipython3",
   "version": "3.12.3"
  },
  "pycharm": {
   "stem_cell": {
    "cell_type": "raw",
    "metadata": {
     "collapsed": false
    },
    "source": []
   }
  }
 },
 "nbformat": 4,
 "nbformat_minor": 4
}
