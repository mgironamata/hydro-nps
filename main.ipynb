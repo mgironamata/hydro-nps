{
 "cells": [
  {
   "cell_type": "markdown",
   "metadata": {
    "colab_type": "text",
    "id": "DWJXd8T78uHQ"
   },
   "source": [
    "# Implementing and Training ConvCNPs for Hydrology"
   ]
  },
  {
   "cell_type": "markdown",
   "metadata": {},
   "source": [
    "### Import required packages"
   ]
  },
  {
   "cell_type": "code",
   "execution_count": 1,
   "metadata": {
    "colab": {},
    "colab_type": "code",
    "id": "_RgZgmbk8uHT",
    "scrolled": true,
    "tags": []
   },
   "outputs": [
    {
     "name": "stdout",
     "output_type": "stream",
     "text": [
      "cuda\n"
     ]
    },
    {
     "name": "stderr",
     "output_type": "stream",
     "text": [
      "c:\\Users\\Sior AMD-4\\anaconda3\\envs\\hydro-nps\\Lib\\site-packages\\fdm\\fdm.py:38: DeprecationWarning: `np.math` is a deprecated alias for the standard library `math` module (Deprecated Numpy 1.25). Replace usages of `np.math` with `math`\n",
      "  coefs = mat.inv()[:, deriv] * np.math.factorial(deriv)\n",
      "c:\\Users\\Sior AMD-4\\anaconda3\\envs\\hydro-nps\\Lib\\site-packages\\fdm\\fdm.py:44: DeprecationWarning: `np.math` is a deprecated alias for the standard library `math` module (Deprecated Numpy 1.25). Replace usages of `np.math` with `math`\n",
      "  / np.math.factorial(order)\n",
      "c:\\Users\\Sior AMD-4\\anaconda3\\envs\\hydro-nps\\Lib\\site-packages\\fdm\\fdm.py:38: DeprecationWarning: `np.math` is a deprecated alias for the standard library `math` module (Deprecated Numpy 1.25). Replace usages of `np.math` with `math`\n",
      "  coefs = mat.inv()[:, deriv] * np.math.factorial(deriv)\n",
      "c:\\Users\\Sior AMD-4\\anaconda3\\envs\\hydro-nps\\Lib\\site-packages\\fdm\\fdm.py:44: DeprecationWarning: `np.math` is a deprecated alias for the standard library `math` module (Deprecated Numpy 1.25). Replace usages of `np.math` with `math`\n",
      "  / np.math.factorial(order)\n"
     ]
    }
   ],
   "source": [
    "%load_ext autoreload\n",
    "%autoreload 2\n",
    "\n",
    "import config as C\n",
    "\n",
    "from IPython import display\n",
    "\n",
    "import os\n",
    "import numpy as np\n",
    "import matplotlib.pyplot as plt\n",
    "import time, datetime\n",
    "import pandas as pd\n",
    "import pdb\n",
    "import torch\n",
    "import torch.nn as nn\n",
    "import pickle\n",
    "\n",
    "import scipy.stats\n",
    "\n",
    "# from sklearn import preprocessing\n",
    "# from scipy.special import inv_boxcox\n",
    "# from scipy.stats import boxcox\n",
    "import stheno.torch as stheno\n",
    "\n",
    "#import convcnp.data\n",
    "# import convcnp.data_hydro_2\n",
    "import data_hydro_2_extended\n",
    "# import convcnp.data_365\n",
    "# import convcnp.data_loader_pytorch\n",
    "import NSE\n",
    "# from metrics import *\n",
    "#import convcnp.task_preprocessing as tp\n",
    "\n",
    "from experiment import report_loss, RunningAverage, save_checkpoint\n",
    "from utils import gaussian_logpdf, gamma_logpdf, init_sequential_weights, to_multiple, to_numpy, gamma_stats\n",
    "from plot_utils import *\n",
    "from architectures import SimpleConv, UNet, SeparableConv1d, Conv1d, DepthSepConv1d\n",
    "from convcnp_architectures import DeepSet, ConvDeepSet, FinalLayer, ConvCNP\n",
    "from task_utils import task_to_device, loaded_task, try_to_delete\n",
    "\n",
    "from numpy import loadtxt\n",
    "\n",
    "device = torch.device('cuda' if torch.cuda.is_available() else 'cpu')\n",
    "\n",
    "from transformations import rev_transform, rev_transform_tensor, scaling, standardise, log_transform, boxcox_transform\n",
    "\n",
    "from plot_utils import plot_model_task\n",
    "\n",
    "from experiment import WorkingDirectory, generate_root\n",
    "\n",
    "from data_loader_pytorch import *\n",
    "\n",
    "# os.environ['CUDA_LAUNCH_BLOCKING'] = '1'\n",
    "\n",
    "print(device)"
   ]
  },
  {
   "cell_type": "code",
   "execution_count": 2,
   "metadata": {},
   "outputs": [],
   "source": [
    "torch.multiprocessing.set_start_method('spawn')  # Set the start method"
   ]
  },
  {
   "cell_type": "markdown",
   "metadata": {},
   "source": [
    "### Import data"
   ]
  },
  {
   "cell_type": "code",
   "execution_count": 3,
   "metadata": {
    "tags": []
   },
   "outputs": [
    {
     "name": "stdout",
     "output_type": "stream",
     "text": [
      "CPU times: total: 2.38 s\n",
      "Wall time: 2.46 s\n"
     ]
    }
   ],
   "source": [
    "%%time\n",
    "# df_raw = pd.read_csv(C.filepath)\n",
    "df_raw = pd.read_pickle('df_raw.pkl')"
   ]
  },
  {
   "cell_type": "code",
   "execution_count": 4,
   "metadata": {},
   "outputs": [],
   "source": [
    "selected_basins = loadtxt(C.basins_file, comments=\"#\", delimiter=\",\", unpack=False, dtype=\"int\")"
   ]
  },
  {
   "cell_type": "code",
   "execution_count": 5,
   "metadata": {
    "tags": []
   },
   "outputs": [
    {
     "name": "stdout",
     "output_type": "stream",
     "text": [
      "Length of dataframe for selected basin:  6521041\n",
      "Length of dataframe after dropping duplicates:  6520841\n",
      "Length of dataframe after filtering out error values:  6518953\n",
      "CPU times: total: 13.9 s\n",
      "Wall time: 14.3 s\n"
     ]
    }
   ],
   "source": [
    "%%time\n",
    "\n",
    "df_raw = df_raw[df_raw['basin'].isin(selected_basins)]\n",
    "print(\"Length of dataframe for selected basin: \", len(df_raw))\n",
    "\n",
    "df_raw.drop(['MOD_RUN'],axis=1,inplace=True)\n",
    "\n",
    "df_raw.drop_duplicates(inplace=True)\n",
    "print(\"Length of dataframe after dropping duplicates: \", len(df_raw))\n",
    "\n",
    "df_raw = df_raw[df_raw['OBS_RUN']>=0]\n",
    "print(\"Length of dataframe after filtering out error values: \", len(df_raw))\n",
    "\n",
    "df_raw['year'] = df_raw['YR']"
   ]
  },
  {
   "cell_type": "markdown",
   "metadata": {},
   "source": [
    "### Catchment Attributes"
   ]
  },
  {
   "cell_type": "code",
   "execution_count": 6,
   "metadata": {},
   "outputs": [],
   "source": [
    "df_att = pd.read_csv(C.path)\n",
    "numeric_attributes = df_att.select_dtypes('float64').columns.tolist()\n",
    "\n",
    "for att in numeric_attributes:\n",
    "    df_att[att] = standardise(df_att[att])\n",
    "\n",
    "#df_att_n['hru08'] = df_att['hru08']\n",
    "#df_att.describe()"
   ]
  },
  {
   "cell_type": "code",
   "execution_count": 7,
   "metadata": {},
   "outputs": [],
   "source": [
    "df = df_raw.copy() "
   ]
  },
  {
   "cell_type": "code",
   "execution_count": 8,
   "metadata": {},
   "outputs": [],
   "source": [
    "dist='gaussian'\n",
    "\n",
    "log_transformation = False\n",
    "boxcox_transformation = False\n",
    "\n",
    "if log_transformation == 'log':\n",
    "\n",
    "    target_fields = [#'OBS_RUN',\n",
    "                    'prcp(mm/day)']\n",
    "\n",
    "    for f in target_fields:\n",
    "        df[f] = log_transform(df_raw[f], 1)\n",
    "        print(f\"log of {f}\")\n",
    "\n",
    "if boxcox_transformation == 'boxcox':\n",
    "\n",
    "    target_fields = ['prcp(mm/day)']\n",
    "    \n",
    "    for f in target_fields:\n",
    "        df[f], lambda_val = boxcox_transform(df_raw[f], 1e-6)\n",
    "        \n",
    "        # replace special characters in lambda_val\n",
    "        for ch in ['(',')','/']:\n",
    "            f = f.replace(ch,\"_\") \n",
    "        \n",
    "        exec(\"lambda_\" + f + \" = \" + str(lambda_val)) # save lambda value to a variable\n",
    "        print(\"lambda_\" + f + \" = \", lambda_val)\n"
   ]
  },
  {
   "cell_type": "code",
   "execution_count": 9,
   "metadata": {},
   "outputs": [],
   "source": [
    "df, q_mu, q_sigma = scaling(df, C.fields, method='std')"
   ]
  },
  {
   "cell_type": "code",
   "execution_count": 10,
   "metadata": {},
   "outputs": [
    {
     "name": "stdout",
     "output_type": "stream",
     "text": [
      "No shift\n"
     ]
    }
   ],
   "source": [
    "if dist=='gamma':\n",
    "    Q_shift = abs(df['OBS_RUN'].min()) + 1\n",
    "    df['OBS_RUN'] = df['OBS_RUN'] + Q_shift\n",
    "    print(f'Shifted by {Q_shift}')\n",
    "else:\n",
    "    print('No shift')"
   ]
  },
  {
   "cell_type": "markdown",
   "metadata": {},
   "source": [
    "### Load dict"
   ]
  },
  {
   "cell_type": "code",
   "execution_count": 11,
   "metadata": {},
   "outputs": [],
   "source": [
    "# a_file = open(\"train_test_splits/k5fold_split.pkl\", \"rb\")\n",
    "# k5fold_dict = pickle.load(a_file)"
   ]
  },
  {
   "cell_type": "markdown",
   "metadata": {},
   "source": [
    "## Train test sets"
   ]
  },
  {
   "cell_type": "code",
   "execution_count": 12,
   "metadata": {},
   "outputs": [],
   "source": [
    "tr = te = selected_basins"
   ]
  },
  {
   "cell_type": "code",
   "execution_count": 13,
   "metadata": {},
   "outputs": [
    {
     "name": "stdout",
     "output_type": "stream",
     "text": [
      "Train test split random: 531 train and 531 test locations\n"
     ]
    }
   ],
   "source": [
    "# tr = k5fold_dict['train_basins_01']\n",
    "# te = k5fold_dict['test_basins_01']\n",
    "\n",
    "print(f'Train test split random: {len(tr)} train and {len(te)} test locations')"
   ]
  },
  {
   "cell_type": "code",
   "execution_count": 14,
   "metadata": {
    "scrolled": true
   },
   "outputs": [],
   "source": [
    "df['OBS_RUN_mean'] = df.groupby('hru08')['OBS_RUN'].transform(lambda x: x.mean())\n",
    "\n",
    "df_train = df[(df['DATE'] >= C.s_date_tr) & (df['DATE'] <= C.e_date_tr) & (df['basin'].isin(tr))].copy()\n",
    "df_test_both = df[(df['DATE'] >= C.s_date_te) & (df['DATE'] <= C.e_date_te) & (df['basin'].isin(te))].copy()\n",
    "df_test_catchment = df[(df['DATE'] >= C.s_date_tr) & (df['DATE'] <= C.e_date_tr) & (df['basin'].isin(te))].copy()\n",
    "df_test_temporal = df[(df['DATE'] >= C.s_date_te) & (df['DATE'] <= C.e_date_te) & (df['basin'].isin(tr))].copy()\n",
    "\n",
    "df_train.drop(C.list_to_drop,axis=1,inplace=True)\n",
    "df_test_both.drop(C.list_to_drop,axis=1,inplace=True)\n",
    "df_test_catchment.drop(C.list_to_drop,axis=1,inplace=True)\n",
    "df_test_temporal.drop(C.list_to_drop,axis=1,inplace=True)\n",
    "\n",
    "df_train.reset_index(drop=True,inplace=True)\n",
    "df_test_temporal.reset_index(drop=True,inplace=True)\n",
    "df_test_catchment.reset_index(drop=True,inplace=True)\n",
    "df_test_both.reset_index(drop=True,inplace=True)"
   ]
  },
  {
   "cell_type": "markdown",
   "metadata": {},
   "source": [
    "## Model"
   ]
  },
  {
   "cell_type": "code",
   "execution_count": 15,
   "metadata": {
    "colab": {},
    "colab_type": "code",
    "id": "w13T-E008uHs"
   },
   "outputs": [
    {
     "name": "stdout",
     "output_type": "stream",
     "text": [
      "7333\n"
     ]
    }
   ],
   "source": [
    "# Instantiate ConvCNP\n",
    "model = ConvCNP(in_channels = len(C.context_channels),\n",
    "                rho=SimpleConv(),\n",
    "                # rho=UNet(),\n",
    "                #rho=DepthSepConv1d(in_channels=rho_in_channels, conv_channels=64, num_layers=7, kernel_size=15),\n",
    "                points_per_unit=64*8,\n",
    "                dynamic_embedding_dims=C.dynamic_embedding_dims,\n",
    "                static_embedding_dims=C.static_embedding_dims,\n",
    "                static_feature_embedding=C.static_feature_embedding,\n",
    "                static_embedding_in_channels=C.static_embedding_in_channels,\n",
    "                static_feature_missing_data=C.static_feature_missing_data,\n",
    "                static_embedding_location=C.static_embedding_location,\n",
    "                distribution=dist)\n",
    "\n",
    "# Assign model to device\n",
    "model.to(device)\n",
    "\n",
    "print(model.num_params)"
   ]
  },
  {
   "cell_type": "code",
   "execution_count": 16,
   "metadata": {},
   "outputs": [],
   "source": [
    "# from new_data import create_dataloader, HydroGeneratore\n",
    "\n",
    "# # Usage example:\n",
    "# dataloader = create_dataloader(dataframe=df_train, \n",
    "#                                df_att=df_att, \n",
    "#                                channels_c=C.context_channels, \n",
    "#                                channels_t=C.target_channels, \n",
    "#                                channels_att=C.attributes, \n",
    "#                                batch_size=32)\n",
    "\n",
    "# generator = HydroGeneratore(dataloader, device)\n",
    "\n",
    "# for task in generator.generate_tasks():\n",
    "#     break"
   ]
  },
  {
   "cell_type": "code",
   "execution_count": 17,
   "metadata": {},
   "outputs": [],
   "source": [
    "# for i in range(8):\n",
    "#     x = task['x'][0,:].cpu()\n",
    "#     y1 = task['y_context'][0,i,:].cpu()\n",
    "#     y2 = task['y_target'][0,i,:].cpu()\n",
    "\n",
    "#     plt.plot(x,y1,'o', label=f'y1{i}')\n",
    "#     # plt.plot(x,y2,'o', label=f'y2{i}')\n",
    "\n",
    "# plt.legend()\n",
    "# plt.show()"
   ]
  },
  {
   "cell_type": "markdown",
   "metadata": {},
   "source": [
    "## Training Data Generation"
   ]
  },
  {
   "cell_type": "code",
   "execution_count": 18,
   "metadata": {
    "colab": {
     "base_uri": "https://localhost:8080/",
     "height": 391
    },
    "colab_type": "code",
    "executionInfo": {
     "elapsed": 22584,
     "status": "ok",
     "timestamp": 1588078548797,
     "user": {
      "displayName": "M. Girona-Mata",
      "photoUrl": "",
      "userId": "05153816392464611766"
     },
     "user_tz": -60
    },
    "id": "E4sS9Ood8uHZ",
    "outputId": "e5365e51-135f-4fb1-feb2-3b55462d73bf",
    "scrolled": true
   },
   "outputs": [
    {
     "data": {
      "image/png": "[encoded data removed]",
      "text/plain": [
       "<Figure size 2400x500 with 3 Axes>"
      ]
     },
     "metadata": {},
     "output_type": "display_data"
    }
   ],
   "source": [
    "gen = data_hydro_2_extended.HydroGenerator(\n",
    "                                            dataframe = df_train,\n",
    "                                            df_att = df_att,\n",
    "                                            batch_size = 16,\n",
    "                                            num_tasks = 16,\n",
    "                                            channels_c = C.context_channels,\n",
    "                                            channels_t = C.target_channels,\n",
    "                                            channels_att = C.attributes,\n",
    "                                            channels_t_val = C.target_val_channel,\n",
    "                                            context_mask = C.context_mask,\n",
    "                                            target_mask = C.target_mask,\n",
    "                                            extrapolate = C.extrapolate_flag,\n",
    "                                            timeslice = C.timeslice,\n",
    "                                            dropout_rate = 0, #  0.3,\n",
    "                                            concat_static_features = C.concat_static_features,\n",
    "                                            min_train_points= C.min_train_points,\n",
    "                                            min_test_points= C.min_test_points,\n",
    "                                            max_train_points= C.max_train_points,\n",
    "                                            max_test_points= C.max_test_points,\n",
    "                                            device='cpu',\n",
    "                                            )\n",
    "\n",
    "task = gen.generate_task()\n",
    "fig = plt.figure(figsize=(24, 5))\n",
    "for i in range(3):\n",
    "    plt.subplot(1, 3, i + 1)\n",
    "    plot_task(task, i, legend=i==2)\n",
    "plt.show()"
   ]
  },
  {
   "cell_type": "markdown",
   "metadata": {
    "colab_type": "text",
    "id": "zrxsiV9C8uHx"
   },
   "source": [
    "## Training Methods\n",
    "\n",
    "With our model in place, let's next define a training procedure. The `train` function below performs one training epoch (as defined by the number of tasks in an epoch from our data generator) as follows:\n",
    "1. Iterate over the tasks in the epoch\n",
    "2. For every task, condition on the context set, and make (Gaussian) predictions at the target locations.\n",
    "3. Compute the log-likelihood of the predictions under the target set.\n",
    "4. Backpropagate the error from the (negative) log-likelihood to the model parameters \n",
    "\n",
    "The `RunningAverage` average object will maintain a running average of the negative log-likelihood. In addition, we provide a plotting function so as to visually monitor the progress of the training procedure."
   ]
  },
  {
   "cell_type": "code",
   "execution_count": 19,
   "metadata": {
    "colab": {},
    "colab_type": "code",
    "id": "QAaF-qaL8uHz",
    "scrolled": true
   },
   "outputs": [],
   "source": [
    "def train(data, model, opt, dist='gaussian', ):\n",
    "    #Perform a training epoch.\n",
    "    ravg = RunningAverage()\n",
    "    ravg_nse = RunningAverage() \n",
    "    model.train()\n",
    "    task_obj_list = []\n",
    "    \n",
    "    for step, task in enumerate(data):\n",
    "        \n",
    "        task = loaded_task(task)\n",
    "        \n",
    "        y_loc, y_scale = model(task['x_context'], task['y_context'], task['x_target'], task['y_att'], \n",
    "                               task['feature'], task['m'], \n",
    "                               static_masking_rate=static_masking_rate, \n",
    "                               embedding=C.feature_embedding_flag)\n",
    "        \n",
    "        if dist == 'gaussian':\n",
    "            y_mean, y_std = y_loc, y_scale\n",
    "            obj = -gaussian_logpdf(task['y_target'], y_loc, y_scale, 'batched_mean')\n",
    "        elif dist == 'gamma':\n",
    "            y_mean, y_std = gamma_stats(y_loc, y_scale)\n",
    "            obj = -gamma_logpdf(task['y_target'], y_loc, y_scale, 'batched_mean')\n",
    "        elif dist == 'gaussian_fixed':\n",
    "            y_mean, y_std = y_loc, y_scale\n",
    "            obj = -gaussian_logpdf(task['y_target'], y_loc, y_scale/y_scale, 'batched_mean')\n",
    "        \n",
    "        obj.backward()\n",
    "        opt.step()\n",
    "        opt.zero_grad()\n",
    "              \n",
    "        obj_nse = NSE.nse_tensor(obs = rev_transform_tensor(task['y_target']),\n",
    "                                 mean_obs = rev_transform_tensor(task['y_target_val']),\n",
    "                                 sim = rev_transform_tensor(y_mean))\n",
    "        \n",
    "        task_obj_list.append(obj.item())\n",
    "        ravg.update(obj.item(), data.batch_size)\n",
    "        ravg_nse.update(obj_nse.item(), data.batch_size)\n",
    "        \n",
    "        if step % 25 == 0:\n",
    "            print(\"step %s -- avg training loss is %.3f\" % (step, ravg.avg)) \n",
    "            \n",
    "    plt.plot(task_obj_list)\n",
    "    plt.show\n",
    "        \n",
    "    return ravg.avg, ravg_nse.avg"
   ]
  },
  {
   "cell_type": "code",
   "execution_count": 20,
   "metadata": {},
   "outputs": [],
   "source": [
    "# Create a fixed set of outputs to predict at when plotting.\n",
    "x_test = torch.linspace(0., 1.,C.timeslice)[None, :, None].to(device)"
   ]
  },
  {
   "cell_type": "code",
   "execution_count": 21,
   "metadata": {},
   "outputs": [
    {
     "data": {
      "image/png": "[encoded data removed]",
      "text/plain": [
       "<Figure size 2400x500 with 3 Axes>"
      ]
     },
     "metadata": {},
     "output_type": "display_data"
    }
   ],
   "source": [
    "# Instantiate data generator for testing.\n",
    "NUM_TEST_TASKS = 16 # 128\n",
    "gen_test = data_hydro_2_extended.HydroGenerator(\n",
    "                                            dataframe=df_test_both,\n",
    "                                            df_att = df_att,\n",
    "                                            batch_size = 32,\n",
    "                                            num_tasks = NUM_TEST_TASKS,\n",
    "                                            channels_c = C.context_channels,\n",
    "                                            channels_t = C.target_channels,\n",
    "                                            channels_att = C.attributes,\n",
    "                                            channels_t_val = C.target_val_channel,\n",
    "                                            context_mask = C.context_mask,\n",
    "                                            target_mask = C.target_mask,\n",
    "                                            extrapolate = False,\n",
    "                                            concat_static_features = C.concat_static_features,\n",
    "                                            timeslice = C.timeslice,\n",
    "                                            min_train_points = C.min_train_points,\n",
    "                                            min_test_points = C.min_test_points,\n",
    "                                            max_train_points = C.max_train_points,\n",
    "                                            max_test_points = C.max_test_points,\n",
    "                                            device = 'cpu'\n",
    "                                            )\n",
    "\n",
    "task = gen_test.generate_task()\n",
    "fig = plt.figure(figsize=(24, 5))\n",
    "for i in range(3):\n",
    "    plt.subplot(1, 3, i + 1)\n",
    "    plot_task(task, i, legend=i==2)\n",
    "plt.show()"
   ]
  },
  {
   "cell_type": "code",
   "execution_count": 22,
   "metadata": {},
   "outputs": [
    {
     "data": {
      "image/png": "[encoded data removed]",
      "text/plain": [
       "<Figure size 2400x500 with 3 Axes>"
      ]
     },
     "metadata": {},
     "output_type": "display_data"
    }
   ],
   "source": [
    "# Instantiate data generator for validation.\n",
    "NUM_TEST_TASKS = 16 # 128\n",
    "gen_val = data_hydro_2_extended.HydroGenerator(\n",
    "                                            dataframe=df_test_catchment,\n",
    "                                            df_att = df_att,\n",
    "                                            batch_size = 32,\n",
    "                                            num_tasks = NUM_TEST_TASKS,\n",
    "                                            channels_c = C.context_channels,\n",
    "                                            channels_t = C.target_channels,\n",
    "                                            channels_att = C.attributes,\n",
    "                                            channels_t_val = C.target_val_channel,\n",
    "                                            context_mask = C.context_mask,\n",
    "                                            target_mask = C.target_mask,\n",
    "                                            extrapolate = False,\n",
    "                                            concat_static_features = C.concat_static_features,\n",
    "                                            timeslice = C.timeslice,\n",
    "                                            min_train_points = C.min_train_points,\n",
    "                                            min_test_points = C.min_test_points,\n",
    "                                            max_train_points = C.max_train_points,\n",
    "                                            max_test_points = C.max_test_points,\n",
    "                                            device = 'cpu'\n",
    "                                            )\n",
    "\n",
    "task = gen_val.generate_task()\n",
    "fig = plt.figure(figsize=(24, 5))\n",
    "for i in range(3):\n",
    "    plt.subplot(1, 3, i + 1)\n",
    "    plot_task(task, i, legend=i==2)\n",
    "plt.show()"
   ]
  },
  {
   "cell_type": "code",
   "execution_count": 23,
   "metadata": {},
   "outputs": [],
   "source": [
    "def get_batch_size(x):\n",
    "    if x.__class__ == 'torch.utils.data.dataloader.DataLoader':\n",
    "        return x.dataset.gen.batch_size\n",
    "    else:\n",
    "        return x.batch_size"
   ]
  },
  {
   "cell_type": "code",
   "execution_count": 86,
   "metadata": {
    "colab": {},
    "colab_type": "code",
    "id": "tW8EadNR8uH-",
    "scrolled": true
   },
   "outputs": [],
   "source": [
    "def test(gen_test,model,dist='gaussian',fig_flag=False):\n",
    "    # Compute average task log-likelihood.\n",
    "    ravg = RunningAverage()\n",
    "    ravg_nse = RunningAverage()\n",
    "    \n",
    "    model.eval()\n",
    "    start = time.time()\n",
    "    \n",
    "    with torch.no_grad():\n",
    "        for step, task in enumerate(gen_test):\n",
    "            torch.cuda.empty_cache()\n",
    "            task = loaded_task(task)\n",
    "            y_loc, y_scale = model(task['x_context'], task['y_context'], task['x_target'], task['y_att'], \n",
    "                                   task['feature'], task['m'], \n",
    "                                   static_masking_rate = static_masking_rate,\n",
    "                                   embedding=C.feature_embedding_flag)        \n",
    "            if dist == 'gaussian':\n",
    "                y_mean, y_std = y_loc, y_scale\n",
    "                obj = -gaussian_logpdf(task['y_target'], y_loc, y_scale, 'batched_mean')\n",
    "            elif dist == 'gamma':\n",
    "                y_mean, y_std = gamma_stats(y_loc, y_scale)\n",
    "                obj = -gamma_logpdf(task['y_target'], y_loc, y_scale, 'batched_mean')\n",
    "            if dist == 'gaussian_fixed':\n",
    "                y_mean, y_std = y_loc, y_scale\n",
    "                obj = -gaussian_logpdf(task['y_target'], y_loc, y_scale/y_scale, 'batched_mean')\n",
    "            \n",
    "            batch_size = get_batch_size(gen_test)\n",
    "            \n",
    "            obj_nse = NSE.nse_tensor(obs=rev_transform_tensor(task['y_target'],mu=q_mu,sigma=q_sigma, scaling='STANRDARD'),\n",
    "                                     mean_obs=rev_transform_tensor(task['y_target_val'],mu=q_mu,sigma=q_sigma, scaling='STANRDARD'),\n",
    "                                     sim=rev_transform_tensor(y_mean,mu=q_mu,sigma=q_sigma, scaling='STANRDARD'))       \n",
    "            \n",
    "            ravg.update(obj.item(), batch_size)\n",
    "            #print(batch_size)\n",
    "            ravg_nse.update(obj_nse.item(), batch_size)\n",
    "\n",
    "    if fig_flag:\n",
    "        fig = plt.figure(figsize=(24, 15))\n",
    "        for i in range(3):\n",
    "            plt.subplot(3, 1, i + 1)\n",
    "            plot_model_task(model, task, C.timeslice, idx=i, legend=i==2, dist=dist)\n",
    "        plt.show()\n",
    "\n",
    "        elapsed = time.time() - start        \n",
    "        print('Test NLL: %.3f -- NSE: %.3f -- time: %.3f' % (ravg.avg, ravg_nse.avg, elapsed))\n",
    "    \n",
    "    return ravg.avg"
   ]
  },
  {
   "cell_type": "markdown",
   "metadata": {
    "colab_type": "text",
    "id": "aH2roeSh8uH3"
   },
   "source": [
    "\n",
    "## Training loop for the model\n",
    "\n",
    "Now we can write a standard PyTorch optimization loop. First, we instantiate an optimizer (here we use an Adam optimizer). Then, we simply iterate for as many epochs as necessary to train the model. Every so often we will print the training error (since the data are generated on the fly, this is also a reasonable estimator for the held out error), and produce a plot demonstrating the model performance. Note that the next block of code will train the model for 100 epochs. This may take some time, and it is highly recommended to do so with a GPU!"
   ]
  },
  {
   "cell_type": "code",
   "execution_count": 45,
   "metadata": {
    "tags": []
   },
   "outputs": [
    {
     "name": "stdout",
     "output_type": "stream",
     "text": [
      "Root: _experiments\\2024-05-11_23-07-19_test-004\n"
     ]
    }
   ],
   "source": [
    "change_folder = True\n",
    "\n",
    "if change_folder:\n",
    "    experiment_name = 'test_004'\n",
    "    wd = WorkingDirectory(generate_root(experiment_name))"
   ]
  },
  {
   "cell_type": "code",
   "execution_count": 46,
   "metadata": {},
   "outputs": [],
   "source": [
    "load_model = False\n",
    "load_dict = False\n",
    "\n",
    "load_root = '_experiments/2020-08-01_22-10-37_k5fold-01-gamma-staticfs-after-encoder-unet'\n",
    "\n",
    "if load_model:\n",
    "    PATH = f'{load_root}/model_best.pth.tar'\n",
    "    #PATH = f'{load_root}/e_61_loss_151.753.pth.tar'\n",
    "    model.load_state_dict(torch.load(PATH))\n",
    "    \n",
    "if load_dict:\n",
    "    a_file = open(os.path.join(load_root,\"loss_dict.pkl\"), \"rb\")\n",
    "    loss_dict = pickle.load(a_file)\n",
    "    a_file.close()\n",
    "    \n",
    "    epoch_list = loss_dict['epochs']\n",
    "    train_obj_list = loss_dict['training_loss'] \n",
    "    train_nse_list = loss_dict['training_nse'] \n",
    "    test_obj_list = loss_dict['test_loss'] "
   ]
  },
  {
   "cell_type": "code",
   "execution_count": 47,
   "metadata": {},
   "outputs": [],
   "source": [
    "reset_epochs = True\n",
    "\n",
    "if reset_epochs:\n",
    "    train_obj_list, train_nse_list, test_obj_list, epoch_list = [], [], [], []"
   ]
  },
  {
   "cell_type": "code",
   "execution_count": 48,
   "metadata": {},
   "outputs": [
    {
     "name": "stdout",
     "output_type": "stream",
     "text": [
      "task does not exist\n",
      "minitask does not exist\n"
     ]
    }
   ],
   "source": [
    "# torch.cuda.empty_cache()\n",
    "try_to_delete(['task','minitask'])"
   ]
  },
  {
   "cell_type": "code",
   "execution_count": 65,
   "metadata": {},
   "outputs": [],
   "source": [
    "gen.batch_size = 32\n",
    "gen_val.batch_size = 32\n",
    "gen_test.batch_size = 32\n",
    "\n",
    "gen.num_tasks = 128\n",
    "gen_val.num_tasks = 128\n",
    "gen_test.num_tasks = 16\n",
    "\n",
    "gen.dropout_rate = 0\n",
    "gen_val.dropout_rate = 0\n",
    "gen_test.dropout_rate = 0\n",
    "static_masking_rate = 0\n",
    "\n",
    "train_dataloader = DataLoader(dataset=HydroDataset(gen,num_tasks_epoch=128), batch_size=1, num_workers=16, shuffle=True, pin_memory=True)\n",
    "test_dataloader = DataLoader(dataset=HydroDataset(gen_test,num_tasks_epoch=64), batch_size=1, num_workers=16, shuffle=False, pin_memory=True)\n",
    "val_dataloader = DataLoader(dataset=HydroDataset(gen_val,num_tasks_epoch=64), batch_size=1, num_workers=16, shuffle=False, pin_memory=True)"
   ]
  },
  {
   "cell_type": "code",
   "execution_count": 61,
   "metadata": {},
   "outputs": [],
   "source": [
    "load_best = False\n",
    "if load_best:\n",
    "    model.load_state_dict(torch.load(os.path.join(wd.root,'model_best.pth.tar')))"
   ]
  },
  {
   "cell_type": "code",
   "execution_count": 66,
   "metadata": {},
   "outputs": [],
   "source": [
    "dist = \"gaussian\""
   ]
  },
  {
   "cell_type": "code",
   "execution_count": null,
   "metadata": {
    "scrolled": true,
    "tags": []
   },
   "outputs": [],
   "source": [
    "# torch.autograd.set_detect_anomaly(False)\n",
    "\n",
    "# Some training hyper-parameters:\n",
    "LEARNING_RATE = 1e-3\n",
    "NUM_EPOCHS = 200\n",
    "PLOT_FREQ = 1\n",
    "\n",
    "plot_model = False\n",
    "\n",
    "if len(epoch_list)>0:\n",
    "    last_epoch = epoch_list[-1]\n",
    "else:\n",
    "    last_epoch = 0\n",
    "\n",
    "# Initialize optimizer\n",
    "opt = torch.optim.Adam(model.parameters(), lr=LEARNING_RATE)\n",
    "\n",
    "# Run the training loop.\n",
    "for epoch in range(NUM_EPOCHS):\n",
    "    # Compute training objective.\n",
    "    start_time = time.time()\n",
    "    train_obj, train_nse = train(gen, model, opt, dist=dist)\n",
    "\n",
    "    epoch_list.append(epoch+last_epoch)\n",
    "    train_obj_list.append(train_obj)\n",
    "    train_nse_list.append(train_nse)\n",
    "    \n",
    "    #torch.cuda.empty_cache()\n",
    "    test_obj = test(gen_test,model,dist=dist)\n",
    "    #torch.cuda.empty_cache()\n",
    "    test_obj_list.append(test_obj)\n",
    "    \n",
    "    elapsed = time.time() - start_time\n",
    "    \n",
    "    print('Epoch %s ¦ train NLL: %.3f ¦ test NLL: %.3f ¦ train NSE: %.3f ¦ time: %.3f' % (epoch+last_epoch, train_obj, test_obj, train_nse, elapsed))\n",
    "\n",
    "    # Plot model behaviour every now and again.\n",
    "    if (epoch % PLOT_FREQ == 0) and plot_model:\n",
    "        \n",
    "        task = task_to_device(gen_val.generate_task())\n",
    "        fig = plt.figure(figsize=(24, 5))\n",
    "        \n",
    "        for i in range(1):\n",
    "            plt.subplot(1, 1, i + 1)\n",
    "            plot_model_task(model, task, timeslice=C.timeslice, idx=i, legend=i==2, dist=dist)\n",
    "        \n",
    "        plt.title('Test set')\n",
    "        display.clear_output(wait=True)\n",
    "        #display.display(plt.gcf())\n",
    "        #plot training loss\n",
    "\n",
    "    print('Epoch %s ¦ train NLL: %.3f ¦ test NLL: %.3f ¦ train NSE: %.3f ¦ time: %.3f' % (epoch + last_epoch, train_obj, test_obj, train_nse, elapsed))\n",
    "    # torch.cuda.empty_cache()\n",
    "    plot_training_loss(train_obj_list, test_obj_list)\n",
    "    plt.show()\n",
    "    \n",
    "    save_as_best = True if test_obj == min(test_obj_list) else False\n",
    "    save_checkpoint(wd,model.state_dict(),is_best=save_as_best)\n",
    "    \n",
    "    PATH = os.path.join(wd.root,'e_%s_loss_%.3f.pth.tar' % (epoch + last_epoch, test_obj))\n",
    "    torch.save(model.state_dict(), PATH)"
   ]
  },
  {
   "cell_type": "code",
   "execution_count": 68,
   "metadata": {},
   "outputs": [
    {
     "name": "stdout",
     "output_type": "stream",
     "text": [
      "Saved successfuly\n"
     ]
    }
   ],
   "source": [
    "save_dict = True\n",
    "\n",
    "if save_dict:\n",
    "    model_hyperparams={}\n",
    "    model_hyperparams['lr'] = LEARNING_RATE\n",
    "    model_hyperparams['distribution'] = dist\n",
    "    model_hyperparams['train_batch_size'] = gen.batch_size\n",
    "    model_hyperparams['batches_per_epoch'] = train_dataloader.dataset.num_tasks_epoch\n",
    "    model_hyperparams['static_masking_rate'] = C.static_masking_rate\n",
    "    model_hyperparams['dynamic masking rate'] = gen.dropout_rate\n",
    "    model_hyperparams['static_embedding_dims'] = C.static_embedding_dims\n",
    "    model_hyperparams['dynamic_embedding_dims'] = C.dynamic_embedding_dims\n",
    "\n",
    "    a_file = open(os.path.join(wd.root,\"model_hyperparams.pkl\"), \"wb\")\n",
    "    pickle.dump(model_hyperparams, a_file)\n",
    "    a_file.close()\n",
    "    print('Saved successfuly')\n"
   ]
  },
  {
   "cell_type": "code",
   "execution_count": 69,
   "metadata": {},
   "outputs": [
    {
     "name": "stdout",
     "output_type": "stream",
     "text": [
      "Saved successfuly\n"
     ]
    }
   ],
   "source": [
    "save_dict = True\n",
    "\n",
    "if save_dict:\n",
    "    loss_dict={}\n",
    "    loss_dict['epochs'] = epoch_list\n",
    "    loss_dict['training_loss'] = train_obj_list\n",
    "    loss_dict['training_nse'] = train_nse_list\n",
    "    loss_dict['test_loss'] = test_obj_list\n",
    "\n",
    "    a_file = open(os.path.join(wd.root,\"loss_dict.pkl\"), \"wb\")\n",
    "    pickle.dump(loss_dict, a_file)\n",
    "    a_file.close()\n",
    "    print('Saved successfuly')\n",
    "    "
   ]
  },
  {
   "cell_type": "code",
   "execution_count": 77,
   "metadata": {},
   "outputs": [
    {
     "data": {
      "image/png": "[encoded data removed]",
      "text/plain": [
       "<Figure size 640x480 with 1 Axes>"
      ]
     },
     "metadata": {},
     "output_type": "display_data"
    }
   ],
   "source": [
    "plt.plot(train_obj_list)\n",
    "plt.plot(test_obj_list)\n",
    "#plt.ylim([-100,100])\n",
    "plt.show()"
   ]
  },
  {
   "cell_type": "markdown",
   "metadata": {},
   "source": [
    "## Test model"
   ]
  },
  {
   "cell_type": "code",
   "execution_count": 46,
   "metadata": {},
   "outputs": [],
   "source": [
    "#ROOT_PATH = '_experiments/2020-07-30_11-26-34_k5fold-01-gaussian-log-staticfs-after-encoder-unet'\n",
    "#model.load_state_dict(torch.load(os.path.join(ROOT_PATH, 'model_best.pth.tar')))"
   ]
  },
  {
   "cell_type": "code",
   "execution_count": 39,
   "metadata": {},
   "outputs": [
    {
     "name": "stdout",
     "output_type": "stream",
     "text": [
      "task does not exist\n"
     ]
    }
   ],
   "source": [
    "# torch.cuda.empty_cache()\n",
    "try_to_delete(['task'])"
   ]
  },
  {
   "cell_type": "code",
   "execution_count": 70,
   "metadata": {},
   "outputs": [],
   "source": [
    "# x = i['x'][0,0,:,0]\n",
    "# xt = i['x_target'][0,0,:,0]\n",
    "# y = rev_transform_tensor(i['y'][0,0,:,0],mu=q_mu,sigma=q_sigma, scaling='STANRDARD')\n",
    "# yt = rev_transform_tensor(i['y_target'][0,0,:,0],mu=q_mu,sigma=q_sigma, scaling='STANRDARD')\n",
    "# y_mean = rev_transform_tensor(i['y_target_val'][0,0,:,0],mu=q_mu,sigma=q_sigma, scaling='STANRDARD')\n",
    "# plt.plot(x,y,'o',label='1')\n",
    "# plt.plot(xt,y_mean,'.',label='2')\n",
    "# plt.plot([0,1],[y.mean(),y.mean()],label='3')\n",
    "# plt.plot([0,1],[yt.mean(),yt.mean()],label='4')\n",
    "# plt.legend()\n",
    "# plt.show()\n"
   ]
  },
  {
   "cell_type": "code",
   "execution_count": null,
   "metadata": {
    "scrolled": true,
    "tags": []
   },
   "outputs": [],
   "source": [
    "gen_for_test = data_hydro_2_extended.HydroGenerator(\n",
    "                                            dataframe=df_test_both,\n",
    "                                            df_att = df_att,\n",
    "                                            batch_size = 16,\n",
    "                                            num_tasks = 32,\n",
    "                                            channels_c = C.context_channels,\n",
    "                                            channels_t = C.target_channels,\n",
    "                                            channels_att = C.attributes,\n",
    "                                            channels_t_val = C.target_val_channel,\n",
    "                                            context_mask = C.context_mask,\n",
    "                                            target_mask = C.target_mask,\n",
    "                                            extrapolate = True,\n",
    "                                            timeslice = C.timeslice,\n",
    "                                            dropout_rate = 0,\n",
    "                                            concat_static_features = False,\n",
    "                                            min_train_points = 90,\n",
    "                                            min_test_points = 1,\n",
    "                                            max_train_points = 91,\n",
    "                                            max_test_points = 1,\n",
    "                                            device='cpu',\n",
    "                                            )\n",
    "        \n",
    "\n",
    "# tester = DataLoader(dataset=HydroDataset(gen_for_test,num_tasks_epoch=1), batch_size=1, shuffle=False, num_workers=1, pin_memory=False)\n",
    "test(gen_for_test,model,dist=dist,fig_flag=True)"
   ]
  },
  {
   "cell_type": "markdown",
   "metadata": {
    "colab_type": "text",
    "id": "q6e4fb7J8uH9"
   },
   "source": [
    "## Evaluation \n",
    "\n",
    "We can also evaluate the trained model to get better estimates of its performance. To do so, we will first introduce an additional data generator that will generate far more tasks for us. Then, we will loop over many tasks, and compute (and print) the average log-likelihood."
   ]
  },
  {
   "cell_type": "code",
   "execution_count": null,
   "metadata": {},
   "outputs": [],
   "source": [
    "\"\"\"%%capture\n",
    "#load model\n",
    "##model = TheModelClass(*args, **kwargs)\n",
    "PATH = '../../saved_models/model_022.pt'\n",
    "model.load_state_dict(torch.load(PATH))\n",
    "model.eval()\"\"\""
   ]
  },
  {
   "cell_type": "code",
   "execution_count": null,
   "metadata": {},
   "outputs": [],
   "source": [
    "\"\"\"model_number = 23\n",
    "save_model_name = f'model_{model_number}_{dist}_static-features_{static_embedding_location}_{s_date_tr}_to_{e_date_tr}'\n",
    "save_model_name\"\"\""
   ]
  },
  {
   "cell_type": "code",
   "execution_count": null,
   "metadata": {},
   "outputs": [],
   "source": [
    "\"\"\"PATH = r'..\\..\\saved_models\\model_022.pt'\n",
    "torch.save(model.state_dict(),PATH)\"\"\""
   ]
  },
  {
   "cell_type": "code",
   "execution_count": 40,
   "metadata": {},
   "outputs": [
    {
     "data": {
      "text/plain": [
       "<All keys matched successfully>"
      ]
     },
     "execution_count": 40,
     "metadata": {},
     "output_type": "execute_result"
    }
   ],
   "source": [
    "ROOT_PATH = '_experiments/2020-08-02_00-31-53_k5fold-01-gamma-staticfs-after-encoder-unet/'\n",
    "PATH = f'{ROOT_PATH}/model_best.pth.tar'\n",
    "model.load_state_dict(torch.load(PATH))"
   ]
  },
  {
   "cell_type": "markdown",
   "metadata": {},
   "source": [
    "## Test NSE performance at 365/1-day ahead task"
   ]
  },
  {
   "cell_type": "code",
   "execution_count": 92,
   "metadata": {
    "scrolled": true
   },
   "outputs": [],
   "source": [
    "from metrics import *\n",
    "import scipy.stats\n",
    "df_test = df_test_temporal"
   ]
  },
  {
   "cell_type": "code",
   "execution_count": 136,
   "metadata": {},
   "outputs": [
    {
     "name": "stdout",
     "output_type": "stream",
     "text": [
      "minitask does not exist\n",
      "task deleted\n"
     ]
    }
   ],
   "source": [
    "var_list = ['minitask','task']\n",
    "try_to_delete(var_list)"
   ]
  },
  {
   "cell_type": "code",
   "execution_count": 112,
   "metadata": {},
   "outputs": [],
   "source": [
    "task_1 = gen_365.generate_test_task(year=1996, basin='hru_01022500')"
   ]
  },
  {
   "cell_type": "code",
   "execution_count": 145,
   "metadata": {},
   "outputs": [
    {
     "name": "stdout",
     "output_type": "stream",
     "text": [
      "531\n",
      "2010 hru_01022500 0.2810830571927837\n",
      "2010 hru_01031500 0.5075638299621756\n",
      "2010 hru_01047000 0.529032382597483\n",
      "2010 hru_01052500 0.4290455026279888\n",
      "2010 hru_01054200 0.4240841467591834\n",
      "2010 hru_01055000 0.45739720479116575\n",
      "2010 hru_01057000 0.561252470707592\n",
      "2010 hru_01073000 0.5333331548023621\n",
      "2010 hru_01078000 0.4852216007713367\n",
      "2010 hru_01123000 0.45160459305431455\n",
      "2010 hru_01134500 0.451964302256595\n",
      "2010 hru_01137500 0.44387987298687726\n",
      "2010 hru_01139000 0.4318501755607794\n",
      "2010 hru_01139800 0.10857281824797704\n",
      "2010 hru_01142500 0.24171974308295752\n",
      "2010 hru_01144000 0.35105492711466824\n",
      "2010 hru_01162500 0.26199611976393555\n",
      "2010 hru_01169000 0.43313600741940106\n",
      "2010 hru_01170100 0.4216684569590198\n",
      "2010 hru_01181000 0.433682598443176\n",
      "2010 hru_01187300 0.4814744792092098\n",
      "2010 hru_01195100 0.5178974314796743\n",
      "2010 hru_04296000 0.2581447079348733\n",
      "2010 hru_01333000 0.2782746341733562\n",
      "2010 hru_01350000 0.39636652572518527\n",
      "2010 hru_01350080 0.19677716626572983\n",
      "2010 hru_01350140 0.2080674573432456\n",
      "2010 hru_01365000 0.417334820427683\n",
      "2010 hru_01411300 -0.35975099333170757\n",
      "2010 hru_01413500 0.24459042472733672\n",
      "2010 hru_01414500 0.25250246969517076\n",
      "2010 hru_01415000 0.18547827252222893\n",
      "2010 hru_01423000 0.26660087418238554\n",
      "2010 hru_01434025 0.31092166117183173\n",
      "2010 hru_01435000 0.4108327453312415\n",
      "2010 hru_01439500 0.27226974308564766\n",
      "2010 hru_01440000 0.4579500119923553\n",
      "2010 hru_01440400 0.43829747639711536\n",
      "2010 hru_01451800 0.5160238024276809\n",
      "2010 hru_01466500 -15.890874197221326\n",
      "2010 hru_01484100 -0.04851602518205733\n",
      "2010 hru_01487000 -0.1392518064334778\n",
      "2010 hru_01491000 0.33910833535923124\n",
      "2010 hru_01510000 0.3252509426692386\n",
      "2010 hru_01516500 0.16505699990167544\n",
      "2010 hru_01518862 0.28739560959193566\n",
      "2010 hru_01532000 0.3275831289128266\n",
      "2010 hru_01539000 0.4905945926492217\n",
      "2010 hru_01542810 0.3351243889455614\n",
      "2010 hru_01543000 0.3739751371708643\n",
      "2010 hru_01543500 0.35442819389931624\n",
      "2010 hru_01544500 0.2907712747599992\n",
      "2010 hru_01545600 0.2140213337176462\n",
      "2010 hru_01547700 0.35387903418815025\n",
      "2010 hru_01548500 0.3196633817540069\n",
      "2010 hru_01549500 0.3799961201315537\n",
      "2010 hru_01550000 0.41863935239264716\n",
      "2010 hru_01552000 0.46268315399347626\n",
      "2010 hru_01552500 0.41834961931431247\n",
      "2010 hru_01557500 0.4097631824291783\n",
      "2010 hru_01567500 0.3324588144385644\n",
      "2010 hru_01568000 0.46906839402962797\n",
      "2010 hru_01580000 0.016556319284270704\n",
      "2010 hru_01583500 -0.1532556403044676\n",
      "2010 hru_01586610 0.16965186083803252\n",
      "2010 hru_01591400 0.2406013363489662\n",
      "2010 hru_01594950 0.3318066099037963\n",
      "2010 hru_01596500 0.4149266682339694\n",
      "2010 hru_01605500 0.36347881742129207\n",
      "2010 hru_01606500 0.37533721497331585\n",
      "2010 hru_01632000 0.29738030724335096\n",
      "2010 hru_01632900 0.26545170137069785\n",
      "2010 hru_01634500 0.275542871409983\n",
      "2010 hru_01638480 0.3203825092318693\n",
      "2010 hru_01639500 0.3810630896111338\n",
      "2010 hru_01644000 0.34448763249622005\n",
      "2010 hru_01664000 0.4556402431558615\n",
      "2010 hru_01666500 0.36678167294581077\n",
      "2010 hru_01667500 0.43975026146903506\n",
      "2010 hru_01669000 0.1966709428649197\n",
      "2010 hru_01669520 0.06060602919073621\n",
      "2010 hru_02011400 0.16221678807180606\n",
      "2010 hru_02013000 0.40799361093800846\n",
      "2010 hru_02014000 0.41517392607971915\n",
      "2010 hru_02015700 0.3876144009898731\n",
      "2010 hru_02016000 0.5342211096365778\n",
      "2010 hru_02017500 0.42839478396648223\n",
      "2010 hru_02018000 0.4641409776964126\n",
      "2010 hru_02027000 0.3596705946403107\n",
      "2010 hru_02027500 0.26265644288017087\n",
      "2010 hru_02028500 0.4188116640069314\n",
      "2010 hru_02038850 0.3309520415978924\n",
      "2010 hru_02046000 0.38180077198411366\n",
      "2010 hru_02051500 0.3604837541108774\n",
      "2010 hru_02053200 -0.07175615461518214\n",
      "2010 hru_02053800 0.21013443035574253\n",
      "2010 hru_02055100 0.26301620451437335\n",
      "2010 hru_02056900 0.26121081709489824\n",
      "2010 hru_02059500 0.31899638129392494\n",
      "2010 hru_02064000 0.35856187965444275\n",
      "2010 hru_02065500 0.3917955292887195\n",
      "2010 hru_02069700 0.01622769920235123\n",
      "2010 hru_02070000 0.39115733999215185\n",
      "2010 hru_02074500 0.37873763908830127\n",
      "2010 hru_02077200 0.3983302604561787\n",
      "2010 hru_02081500 0.4464535865703769\n",
      "2010 hru_02082950 0.24375800984367524\n",
      "2010 hru_02092500 -0.05312875983398824\n",
      "2010 hru_02096846 0.26568281733121235\n",
      "2010 hru_02102908 0.01074178891891564\n",
      "2010 hru_02108000 -0.2166018979163875\n",
      "2010 hru_02111180 0.3767537242897423\n",
      "2010 hru_02111500 0.09808400522535143\n",
      "2010 hru_02112120 0.013799809593805334\n",
      "2010 hru_02112360 0.06978651807021685\n",
      "2010 hru_02118500 0.2096605885967192\n",
      "2010 hru_02125000 0.35766659826371694\n",
      "2010 hru_02128000 0.3581747276004481\n",
      "2010 hru_02137727 0.16756822936779703\n",
      "2010 hru_02140991 0.38778469968829365\n",
      "2010 hru_02143000 0.36545359971949043\n",
      "2010 hru_02143040 0.4720859257946306\n",
      "2010 hru_02149000 0.23371763944608037\n",
      "2010 hru_02152100 0.25069470378016134\n",
      "2010 hru_02177000 -0.1553029094421341\n",
      "2010 hru_02178400 -0.11065933671692951\n",
      "2010 hru_02193340 0.3392743472981742\n",
      "2010 hru_02196000 0.4661629827898831\n",
      "2010 hru_02198100 0.23154097991285438\n",
      "2010 hru_02202600 -0.9396750528646531\n",
      "2010 hru_02212600 0.5489421285241696\n",
      "2010 hru_02215100 0.12192019171486179\n",
      "2010 hru_02216180 0.3353204114430013\n",
      "2010 hru_02221525 0.5014177805440262\n",
      "2010 hru_02231000 -0.36064295915190714\n",
      "2010 hru_02245500 0.34989236430969983\n",
      "2010 hru_02246000 0.27338586100431306\n",
      "2010 hru_02296500 -0.5197664752888265\n",
      "2010 hru_02297155 -0.11400470661561357\n",
      "2010 hru_02297310 -0.19057298348496787\n",
      "2010 hru_02298123 -0.36467357074328843\n",
      "2010 hru_02298608 0.16115942548958384\n",
      "2010 hru_02299950 0.3729634548709003\n",
      "2010 hru_02300700 0.32845508826048586\n",
      "2010 hru_02342933 0.39436025314600076\n",
      "2010 hru_02349900 0.37493494946651384\n",
      "2010 hru_02350900 -1.2938531886670166\n",
      "2010 hru_02361000 0.21607986588444683\n",
      "2010 hru_02363000 -0.21438663032706873\n",
      "2010 hru_02369800 0.28104118698211344\n",
      "2010 hru_02371500 -0.4309020292225738\n",
      "2010 hru_02372250 -0.11034027520933232\n",
      "2010 hru_02374500 0.34611279937816375\n",
      "2010 hru_02381600 0.1098552354738197\n",
      "2010 hru_02384540 0.2979385499856275\n",
      "2010 hru_02395120 0.41587588490793415\n",
      "2010 hru_02415000 0.5097750361755823\n",
      "2010 hru_02427250 0.47740151000868725\n",
      "2010 hru_02430085 0.4663351961821085\n",
      "2010 hru_02450250 0.49070461235578744\n",
      "2010 hru_02464000 0.5584235826662727\n",
      "2010 hru_02464360 0.5197805968898526\n",
      "2010 hru_02465493 0.17648771989803047\n",
      "2010 hru_02469800 0.4971724174639677\n",
      "2010 hru_02472000 0.1805258796209419\n",
      "2010 hru_02472500 0.45079106763856946\n",
      "2010 hru_02479155 0.5341367229121018\n",
      "2010 hru_02479300 0.19490946478550153\n",
      "2010 hru_02479560 0.19698647783371614\n",
      "2010 hru_02481000 0.44837026067405283\n",
      "2010 hru_02481510 0.48769962463189587\n",
      "2010 hru_04015330 0.3993513367029523\n",
      "2010 hru_04024430 -0.004891229007808917\n",
      "2010 hru_04027000 0.23255465655228447\n",
      "2010 hru_04040500 0.25341747931317815\n",
      "2010 hru_04043050 0.3043718881119245\n",
      "2010 hru_04045500 -0.20987661165034321\n",
      "2010 hru_04057510 -0.21821686511910232\n",
      "2010 hru_04057800 0.23433912757527453\n",
      "2010 hru_04059500 0.09933458427598285\n",
      "2010 hru_04063700 -1.181526120650271\n",
      "2010 hru_04074950 -6.788255331991174\n",
      "2010 hru_04105700 -4.420879180096676\n",
      "2010 hru_04115265 -3.003993469691192\n",
      "2010 hru_04122200 -5.741758766176232\n",
      "2010 hru_04122500 -6.341109796440411\n",
      "2010 hru_04127918 0.14869996056326107\n",
      "2010 hru_04127997 -8.756732488041967\n",
      "2010 hru_04161580 -2.1270163619892566\n",
      "2010 hru_04185000 -0.21904909888101454\n",
      "2010 hru_04196800 0.21851797688758534\n",
      "2010 hru_04197100 0.38812416026116836\n",
      "2010 hru_04197170 0.4303672276088486\n",
      "2010 hru_04213000 0.34873981037425383\n",
      "2010 hru_04213075 0.1984765158307782\n",
      "2010 hru_04216418 0.31636902340281425\n",
      "2010 hru_04221000 0.23519550505238784\n",
      "2010 hru_04224775 0.22707330273080617\n",
      "2010 hru_04233000 0.2112889036411465\n",
      "2010 hru_04256000 0.2958499468917314\n",
      "2010 hru_03010655 0.15332459869910853\n",
      "2010 hru_03011800 0.1977722629675306\n",
      "2010 hru_03015500 0.2871778743081972\n",
      "2010 hru_03021350 0.29236334347449955\n",
      "2010 hru_03026500 0.17389072951568496\n",
      "2010 hru_03028000 0.24186800941408393\n",
      "2010 hru_03049000 0.3969852233406831\n",
      "2010 hru_03049800 0.20562150899896336\n",
      "2010 hru_03050000 0.5401171391670943\n",
      "2010 hru_03069500 0.5135616689971714\n",
      "2010 hru_03070500 0.4949753950765192\n",
      "2010 hru_03076600 0.35571326223299604\n",
      "2010 hru_03078000 0.42504046712181287\n",
      "2010 hru_03140000 0.45252932219213493\n",
      "2010 hru_03144000 0.47548757631971905\n",
      "2010 hru_03170000 -0.017117993991154545\n",
      "2010 hru_03173000 0.3682154798685192\n",
      "2010 hru_03180500 0.45541136455473363\n",
      "2010 hru_03182500 0.5054638574740697\n",
      "2010 hru_03186500 0.4729848781358472\n",
      "2010 hru_03237280 0.2976109922260044\n",
      "2010 hru_03237500 0.45205324269099756\n",
      "2010 hru_03238500 0.483663061588959\n",
      "2010 hru_03241500 0.4833889735645246\n",
      "2010 hru_03280700 0.39870014856339275\n",
      "2010 hru_03281500 0.4579782649898396\n",
      "2010 hru_03285000 0.4627622397954061\n",
      "2010 hru_03291780 0.4225922357059818\n",
      "2010 hru_03338780 0.41725959973073956\n",
      "2010 hru_03340800 0.52310916734411\n",
      "2010 hru_03346000 0.37654573882478815\n",
      "2010 hru_03364500 0.45728152989809867\n",
      "2010 hru_03366500 0.5304754432763457\n",
      "2010 hru_03368000 0.32665732511110324\n",
      "2010 hru_03384450 0.3813959060578149\n",
      "2010 hru_03439000 0.06776228997977374\n",
      "2010 hru_03455500 0.15627513459226783\n",
      "2010 hru_03456500 0.2523219308289286\n",
      "2010 hru_03460000 -0.375871052966281\n",
      "2010 hru_03463300 0.31875903383131776\n",
      "2010 hru_03471500 0.07196297509274696\n",
      "2010 hru_03473000 0.3413477525963433\n",
      "2010 hru_03479000 0.29965119250827266\n",
      "2010 hru_03488000 0.4274642156971171\n",
      "2010 hru_03498500 0.4555381556884507\n",
      "2010 hru_03500000 -0.6884237824264603\n",
      "2010 hru_03500240 -0.4808238860144234\n",
      "2010 hru_03504000 -0.16020569219287073\n",
      "2010 hru_03574500 0.3551979805468045\n",
      "2010 hru_03592718 0.45620841551055735\n",
      "2010 hru_03604000 0.2951719113142056\n",
      "2010 hru_05291000 -0.10809078221467905\n",
      "2010 hru_05362000 0.06813499106374554\n",
      "2010 hru_05393500 0.2843422813438595\n",
      "2010 hru_05399500 0.31024446456466404\n",
      "2010 hru_05408000 -0.5850533829687548\n",
      "2010 hru_05413500 -0.40867846425498033\n",
      "2010 hru_05414000 -0.3663919126138242\n",
      "2010 hru_05444000 -0.2712513019844689\n",
      "2010 hru_05454000 0.2892961352949659\n",
      "2010 hru_05458000 0.07701331218459595\n",
      "2010 hru_05466500 -0.12640049317408097\n",
      "2010 hru_05487980 0.4649144551006267\n",
      "2010 hru_05488200 0.43339894647972876\n",
      "2010 hru_05489000 0.44533835368388586\n",
      "2010 hru_05495000 0.42979850977004297\n",
      "2010 hru_05495500 0.5110815848410063\n",
      "2010 hru_05501000 0.5026499691188215\n",
      "2010 hru_05503800 0.45010697511554565\n",
      "2010 hru_05507600 0.3821485076296065\n"
     ]
    },
    {
     "ename": "KeyboardInterrupt",
     "evalue": "",
     "output_type": "error",
     "traceback": [
      "\u001b[1;31m---------------------------------------------------------------------------\u001b[0m",
      "\u001b[1;31mKeyboardInterrupt\u001b[0m                         Traceback (most recent call last)",
      "Cell \u001b[1;32mIn[145], line 69\u001b[0m\n\u001b[0;32m     62\u001b[0m years \u001b[38;5;241m=\u001b[39m \u001b[38;5;28msorted\u001b[39m(years)[\u001b[38;5;241m1\u001b[39m:]\n\u001b[0;32m     64\u001b[0m \u001b[38;5;28;01mfor\u001b[39;00m year \u001b[38;5;129;01min\u001b[39;00m years:\n\u001b[0;32m     65\u001b[0m \n\u001b[0;32m     66\u001b[0m     \u001b[38;5;66;03m# if year != 2000:\u001b[39;00m\n\u001b[0;32m     67\u001b[0m     \u001b[38;5;66;03m#     continue\u001b[39;00m\n\u001b[1;32m---> 69\u001b[0m     task \u001b[38;5;241m=\u001b[39m \u001b[43mgen_365\u001b[49m\u001b[38;5;241;43m.\u001b[39;49m\u001b[43mgenerate_test_task\u001b[49m\u001b[43m(\u001b[49m\u001b[43myear\u001b[49m\u001b[38;5;241;43m=\u001b[39;49m\u001b[43myear\u001b[49m\u001b[43m,\u001b[49m\u001b[43m \u001b[49m\u001b[43mbasin\u001b[49m\u001b[38;5;241;43m=\u001b[39;49m\u001b[43mbasin\u001b[49m\u001b[43m)\u001b[49m\n\u001b[0;32m     71\u001b[0m     task \u001b[38;5;241m=\u001b[39m loaded_task(task\u001b[38;5;241m=\u001b[39mtask, device\u001b[38;5;241m=\u001b[39m\u001b[38;5;124m'\u001b[39m\u001b[38;5;124mcuda\u001b[39m\u001b[38;5;124m'\u001b[39m)\n\u001b[0;32m     73\u001b[0m     y_mean, y_std \u001b[38;5;241m=\u001b[39m model(task[\u001b[38;5;124m'\u001b[39m\u001b[38;5;124mx_context\u001b[39m\u001b[38;5;124m'\u001b[39m], task[\u001b[38;5;124m'\u001b[39m\u001b[38;5;124my_context\u001b[39m\u001b[38;5;124m'\u001b[39m], \n\u001b[0;32m     74\u001b[0m                               task[\u001b[38;5;124m'\u001b[39m\u001b[38;5;124mx_target\u001b[39m\u001b[38;5;124m'\u001b[39m],task[\u001b[38;5;124m'\u001b[39m\u001b[38;5;124my_att\u001b[39m\u001b[38;5;124m'\u001b[39m], \n\u001b[0;32m     75\u001b[0m                               task[\u001b[38;5;124m'\u001b[39m\u001b[38;5;124mfeature\u001b[39m\u001b[38;5;124m'\u001b[39m],task[\u001b[38;5;124m'\u001b[39m\u001b[38;5;124mm\u001b[39m\u001b[38;5;124m'\u001b[39m],\n\u001b[0;32m     76\u001b[0m                               static_masking_rate\u001b[38;5;241m=\u001b[39m\u001b[38;5;241m0\u001b[39m,\n\u001b[0;32m     77\u001b[0m                               embedding\u001b[38;5;241m=\u001b[39mC\u001b[38;5;241m.\u001b[39mfeature_embedding_flag)\n",
      "File \u001b[1;32mc:\\Users\\Sior AMD-4\\repos\\hydro-nps\\data_hydro_2_extended.py:302\u001b[0m, in \u001b[0;36mHydroGenerator.generate_test_task\u001b[1;34m(self, year, basin)\u001b[0m\n\u001b[0;32m    299\u001b[0m x_ind \u001b[38;5;241m=\u001b[39m np\u001b[38;5;241m.\u001b[39marange(s_ind, e_ind)\n\u001b[0;32m    301\u001b[0m y, y_t, y_t_val \u001b[38;5;241m=\u001b[39m \u001b[38;5;28mself\u001b[39m\u001b[38;5;241m.\u001b[39msample(x_ind,df_s)\n\u001b[1;32m--> 302\u001b[0m y_att \u001b[38;5;241m=\u001b[39m \u001b[38;5;28;43mself\u001b[39;49m\u001b[38;5;241;43m.\u001b[39;49m\u001b[43msample_att\u001b[49m\u001b[43m(\u001b[49m\u001b[43mhru08\u001b[49m\u001b[43m)\u001b[49m\n\u001b[0;32m    303\u001b[0m x_date \u001b[38;5;241m=\u001b[39m \u001b[38;5;28mself\u001b[39m\u001b[38;5;241m.\u001b[39msample_date(x_ind,df_s)\n\u001b[0;32m    305\u001b[0m x \u001b[38;5;241m=\u001b[39m np\u001b[38;5;241m.\u001b[39mdivide(np\u001b[38;5;241m.\u001b[39marray(x_ind) \u001b[38;5;241m-\u001b[39m s_ind, e_ind \u001b[38;5;241m-\u001b[39m s_ind)\n",
      "File \u001b[1;32mc:\\Users\\Sior AMD-4\\repos\\hydro-nps\\data_hydro_2_extended.py:156\u001b[0m, in \u001b[0;36mHydroGenerator.sample_att\u001b[1;34m(self, hru08)\u001b[0m\n\u001b[0;32m    155\u001b[0m \u001b[38;5;28;01mdef\u001b[39;00m \u001b[38;5;21msample_att\u001b[39m(\u001b[38;5;28mself\u001b[39m,hru08):\n\u001b[1;32m--> 156\u001b[0m     \u001b[38;5;28;01mreturn\u001b[39;00m \u001b[43mnp\u001b[49m\u001b[38;5;241;43m.\u001b[39;49m\u001b[43mvstack\u001b[49m\u001b[43m(\u001b[49m\u001b[38;5;28;43mtuple\u001b[39;49m\u001b[43m(\u001b[49m\u001b[38;5;28;43mself\u001b[39;49m\u001b[38;5;241;43m.\u001b[39;49m\u001b[43mdf_att\u001b[49m\u001b[43m[\u001b[49m\u001b[43mkey\u001b[49m\u001b[43m]\u001b[49m\u001b[43m[\u001b[49m\u001b[38;5;28;43mself\u001b[39;49m\u001b[38;5;241;43m.\u001b[39;49m\u001b[43mdf_att\u001b[49m\u001b[43m[\u001b[49m\u001b[38;5;124;43m'\u001b[39;49m\u001b[38;5;124;43mhru08\u001b[39;49m\u001b[38;5;124;43m'\u001b[39;49m\u001b[43m]\u001b[49m\u001b[38;5;241;43m==\u001b[39;49m\u001b[43mhru08\u001b[49m\u001b[43m]\u001b[49m\u001b[43m \u001b[49m\u001b[38;5;28;43;01mfor\u001b[39;49;00m\u001b[43m \u001b[49m\u001b[43mkey\u001b[49m\u001b[43m \u001b[49m\u001b[38;5;129;43;01min\u001b[39;49;00m\u001b[43m \u001b[49m\u001b[38;5;28;43mself\u001b[39;49m\u001b[38;5;241;43m.\u001b[39;49m\u001b[43mchannels_att\u001b[49m\u001b[43m)\u001b[49m\u001b[43m)\u001b[49m\n",
      "File \u001b[1;32mc:\\Users\\Sior AMD-4\\anaconda3\\envs\\hydro-nps\\Lib\\site-packages\\numpy\\core\\shape_base.py:289\u001b[0m, in \u001b[0;36mvstack\u001b[1;34m(tup, dtype, casting)\u001b[0m\n\u001b[0;32m    287\u001b[0m \u001b[38;5;28;01mif\u001b[39;00m \u001b[38;5;129;01mnot\u001b[39;00m \u001b[38;5;28misinstance\u001b[39m(arrs, \u001b[38;5;28mlist\u001b[39m):\n\u001b[0;32m    288\u001b[0m     arrs \u001b[38;5;241m=\u001b[39m [arrs]\n\u001b[1;32m--> 289\u001b[0m \u001b[38;5;28;01mreturn\u001b[39;00m \u001b[43m_nx\u001b[49m\u001b[38;5;241;43m.\u001b[39;49m\u001b[43mconcatenate\u001b[49m\u001b[43m(\u001b[49m\u001b[43marrs\u001b[49m\u001b[43m,\u001b[49m\u001b[43m \u001b[49m\u001b[38;5;241;43m0\u001b[39;49m\u001b[43m,\u001b[49m\u001b[43m \u001b[49m\u001b[43mdtype\u001b[49m\u001b[38;5;241;43m=\u001b[39;49m\u001b[43mdtype\u001b[49m\u001b[43m,\u001b[49m\u001b[43m \u001b[49m\u001b[43mcasting\u001b[49m\u001b[38;5;241;43m=\u001b[39;49m\u001b[43mcasting\u001b[49m\u001b[43m)\u001b[49m\n",
      "\u001b[1;31mKeyboardInterrupt\u001b[0m: "
     ]
    }
   ],
   "source": [
    "# Instantiate data generator for testing.\n",
    "NUM_TEST_TASKS = 10\n",
    "gen_365 = data_hydro_2_extended.HydroGenerator(\n",
    "                                            dataframe=df_test,\n",
    "                                            df_att = df_att,\n",
    "                                            batch_size = 16,\n",
    "                                            num_tasks = NUM_TEST_TASKS,\n",
    "                                            channels_c = C.context_channels,\n",
    "                                            channels_t = C.target_channels,\n",
    "                                            channels_att = C.attributes,\n",
    "                                            channels_t_val = C.target_val_channel,\n",
    "                                            context_mask = C.context_mask,\n",
    "                                            target_mask = C.target_mask,\n",
    "                                            concat_static_features = C.concat_static_features,\n",
    "                                            extrapolate = True,\n",
    "                                            timeslice = 90,\n",
    "                                            min_train_points=89,\n",
    "                                            min_test_points=1,\n",
    "                                            max_train_points=89,\n",
    "                                            max_test_points=1,\n",
    "                                            device='cpu')\n",
    "\n",
    "out = np.array([])\n",
    "out_2 = np.array([])\n",
    "\n",
    "# Compute average task log-likelihood.\n",
    "basins = df_test['hru08'].unique().tolist()\n",
    "print(len(basins))\n",
    "b=0\n",
    "for basin in basins[:]:\n",
    "\n",
    "    b+=1\n",
    "    \n",
    "    # ravg = RunningAverage()\n",
    "    # ravg_nse = RunningAverage()\n",
    "    # model.eval()\n",
    "    # start = time.time()\n",
    "    \n",
    "    # pred_mu = np.array([])\n",
    "    # pred_mu2 = np.array([])\n",
    "    # pred_sigma = np.array([])\n",
    "    # pred_loc = np.array([])\n",
    "    # pred_scale = np.array([])\n",
    "    # observations = np.array([])\n",
    "    # DOY = np.array([])\n",
    "    # YR = np.array([])\n",
    "    # HRU = np.array([])\n",
    "    \n",
    "    # alpha_nse = np.array([])\n",
    "    # beta_nse = np.array([])\n",
    "    # nse_index = np.array([])\n",
    "    # fhv = np.array([])\n",
    "    # flv = np.array([])\n",
    "    # fms = np.array([])\n",
    "    \n",
    "    obs_basin = np.array([])\n",
    "    mean_obs_basin = np.array([])\n",
    "    sim_basin = np.array([])\n",
    "\n",
    "    with torch.no_grad():    \n",
    "        years = df_test['YR'][df_test['hru08']==basin].unique().tolist()\n",
    "        years = sorted(years)[1:]\n",
    "        \n",
    "        for year in years:\n",
    "\n",
    "            # if year != 2000:\n",
    "            #     continue\n",
    "            \n",
    "            task = gen_365.generate_test_task(year=year, basin=basin)\n",
    "\n",
    "            task = loaded_task(task=task, device='cuda')\n",
    "\n",
    "            y_mean, y_std = model(task['x_context'], task['y_context'], \n",
    "                                      task['x_target'],task['y_att'], \n",
    "                                      task['feature'],task['m'],\n",
    "                                      static_masking_rate=0,\n",
    "                                      embedding=C.feature_embedding_flag)\n",
    "                                \n",
    "            if dist == 'gaussian':\n",
    "                obj = -gaussian_logpdf(task['y_target'], y_mean, y_std, 'batched_mean')\n",
    "            elif dist == 'gaussian_fixed':\n",
    "                obj = -gaussian_logpdf(task['y_target'], y_mean, y_std/y_std, 'batched_mean')\n",
    "            elif dist == 'gamma':\n",
    "                obj = -gamma_logpdf(task['y_target'], y_mean, y_std, 'batched_mean')\n",
    "            \n",
    "            #y_mu, y_sigma = rev_lognormal(to_numpy(y_mean), to_numpy(y_std))\n",
    "            \n",
    "            if dist == 'gamma':\n",
    "                y_loc = y_mean\n",
    "                y_scale = y_std\n",
    "                g_mean = torch.distributions.gamma.Gamma(y_mean, y_std).mean\n",
    "                g_var = torch.distributions.gamma.Gamma(y_mean, y_std).variance\n",
    "                y_mean = g_mean\n",
    "                y_std = torch.sqrt(g_var)\n",
    "\n",
    "            obs = rev_transform(task['y_target'].flatten().cpu().numpy(), mu=q_mu, sigma=q_sigma)\n",
    "            mean_obs = rev_transform(task['y_target_val'].flatten().cpu().numpy(), mu=q_mu, sigma=q_sigma)\n",
    "            sim = rev_transform(y_mean.flatten().cpu().numpy(), mu=q_mu, sigma=q_sigma)\n",
    "\n",
    "            obs_basin = np.concatenate((obs_basin,obs),axis=0)\n",
    "            mean_obs_basin = np.concatenate((mean_obs_basin, mean_obs),axis=0)\n",
    "            sim_basin = np.concatenate((sim_basin, sim), axis=0)\n",
    "\n",
    "            # print(year,basin)\n",
    "\n",
    "            # plt.figure(figsize=(20,5))\n",
    "            # plt.plot(obs,label='obs')\n",
    "            # plt.plot(sim, label='sim')\n",
    "            # plt.legend()\n",
    "            # plt.show()\n",
    "\n",
    "    try:\n",
    "        nse = NSE.nse(obs=obs_basin\n",
    "                ,mean_obs=mean_obs_basin\n",
    "                ,sim=sim_basin)\n",
    "        print(year, basin, nse)\n",
    "    except:\n",
    "        print(year, basin, \"NSE can't be calculated\")\n",
    "        "
   ]
  },
  {
   "cell_type": "code",
   "execution_count": 62,
   "metadata": {},
   "outputs": [],
   "source": [
    "importlib.reload(convcnp.transformations)\n",
    "from convcnp.transformations import rev_lognormal"
   ]
  },
  {
   "cell_type": "code",
   "execution_count": 64,
   "metadata": {},
   "outputs": [],
   "source": [
    "df_output = pd.DataFrame(out,columns=['HRU','YR','DOY','OBS_RUN','MOD_RUN_MU','MOD_RUN_SIGMA','PRED_LOC','PRED_SCALE'])\n",
    "df_output_2 = pd.DataFrame(out_2, columns=['alpha_nse','beta_nse','nse_index','fhv','flv','fms'])"
   ]
  },
  {
   "cell_type": "code",
   "execution_count": 65,
   "metadata": {},
   "outputs": [],
   "source": [
    "PATH = '_experiments/2020-08-02_00-31-53_k5fold-01-gamma-staticfs-after-encoder-unet'\n",
    "df_output.to_csv(os.path.join(PATH,f'results_PGB_model_best_epoch_85.csv'),index=False)\n",
    "df_output_2.to_csv(os.path.join(PATH,f'metrics_PGB_model_best_epoch_85.csv'),index=False)"
   ]
  },
  {
   "cell_type": "code",
   "execution_count": 66,
   "metadata": {},
   "outputs": [
    {
     "data": {
      "text/plain": [
       "'df_output_test_both_40basins = df_output.copy()\\ndf_output_test_both_40basins_2 = df_output_2.copy()'"
      ]
     },
     "execution_count": 66,
     "metadata": {},
     "output_type": "execute_result"
    }
   ],
   "source": [
    "\"\"\"df_output_test_both_40basins = df_output.copy()\n",
    "df_output_test_both_40basins_2 = df_output_2.copy()\"\"\""
   ]
  },
  {
   "cell_type": "code",
   "execution_count": 67,
   "metadata": {},
   "outputs": [
    {
     "name": "stdout",
     "output_type": "stream",
     "text": [
      "424\n"
     ]
    },
    {
     "name": "stderr",
     "output_type": "stream",
     "text": [
      "/home/donal/miniconda3/lib/python3.7/site-packages/numpy/lib/histograms.py:839: RuntimeWarning: invalid value encountered in greater_equal\n",
      "  keep = (tmp_a >= first_edge)\n",
      "/home/donal/miniconda3/lib/python3.7/site-packages/numpy/lib/histograms.py:840: RuntimeWarning: invalid value encountered in less_equal\n",
      "  keep &= (tmp_a <= last_edge)\n",
      "/home/donal/miniconda3/lib/python3.7/site-packages/numpy/lib/histograms.py:839: RuntimeWarning: invalid value encountered in greater_equal\n",
      "  keep = (tmp_a >= first_edge)\n",
      "/home/donal/miniconda3/lib/python3.7/site-packages/numpy/lib/histograms.py:840: RuntimeWarning: invalid value encountered in less_equal\n",
      "  keep &= (tmp_a <= last_edge)\n",
      "/home/donal/miniconda3/lib/python3.7/site-packages/numpy/lib/histograms.py:839: RuntimeWarning: invalid value encountered in greater_equal\n",
      "  keep = (tmp_a >= first_edge)\n",
      "/home/donal/miniconda3/lib/python3.7/site-packages/numpy/lib/histograms.py:840: RuntimeWarning: invalid value encountered in less_equal\n",
      "  keep &= (tmp_a <= last_edge)\n",
      "/home/donal/miniconda3/lib/python3.7/site-packages/numpy/lib/histograms.py:839: RuntimeWarning: invalid value encountered in greater_equal\n",
      "  keep = (tmp_a >= first_edge)\n",
      "/home/donal/miniconda3/lib/python3.7/site-packages/numpy/lib/histograms.py:840: RuntimeWarning: invalid value encountered in less_equal\n",
      "  keep &= (tmp_a <= last_edge)\n"
     ]
    },
    {
     "data": {
      "image/png": "[encoded data removed]",
      "text/plain": [
       "<Figure size 1440x1080 with 6 Axes>"
      ]
     },
     "metadata": {
      "needs_background": "light"
     },
     "output_type": "display_data"
    }
   ],
   "source": [
    "hrus = df_output['HRU'].unique()\n",
    "nse_array = np.array([])\n",
    "for hru in hrus:\n",
    "    df_hru = df_output[df_output['HRU']==hru]\n",
    "    obs = rev_transform(df_hru['OBS_RUN'].values.astype(np.float))\n",
    "    mean_obs = np.ones(len(obs))*obs.mean()\n",
    "    #print(mean_obs)\n",
    "    mod = rev_transform(df_hru['MOD_RUN_MU'].values.astype(np.float))\n",
    "    nse_array = np.append(nse_array, NSE.nse(obs,mean_obs,mod))\n",
    "\n",
    "#print(f\"Median NSE = {np.median(nse_array)}\")\n",
    "#print(f\"Mean NSE = {nse_array.mean()}\")\n",
    "#print(f\"NSE std = {nse_array.std()}\")\n",
    "print(len(nse_array))\n",
    "\n",
    "list_metrics = ['nse_index','alpha_nse','beta_nse','fhv','flv','fms']\n",
    "\n",
    "i = 0\n",
    "fig = plt.figure(figsize=[20,15])\n",
    "for m in list_metrics:\n",
    "    i += 1\n",
    "    plt.subplot(2,3,i)\n",
    "    plt.hist(df_output_2[m], bins=50, density=True, \n",
    "         histtype='stepfilled',\n",
    "         cumulative=True)\n",
    "    plt.grid()\n",
    "    \n",
    "    plt.ylabel(\"cdf\",fontsize = 14)\n",
    "    plt.xlabel(m,fontsize=14)\n",
    "    plt.title(\"%s: mu=%.2f; med=%.2f; std=%.2f \\n min=%.2f; max=%.2f\" % (m, df_output_2[m].mean(), df_output_2[m].median(), df_output_2[m].std(), df_output_2[m].min(), df_output_2[m].max()), fontsize=16)\n",
    "    #plt.show()"
   ]
  },
  {
   "cell_type": "code",
   "execution_count": 68,
   "metadata": {},
   "outputs": [
    {
     "data": {
      "text/plain": [
       "Index(['HRU', 'YR', 'DOY', 'OBS_RUN', 'MOD_RUN_MU', 'MOD_RUN_SIGMA',\n",
       "       'PRED_LOC', 'PRED_SCALE'],\n",
       "      dtype='object')"
      ]
     },
     "execution_count": 68,
     "metadata": {},
     "output_type": "execute_result"
    }
   ],
   "source": [
    "df_output.columns"
   ]
  },
  {
   "cell_type": "code",
   "execution_count": 139,
   "metadata": {},
   "outputs": [
    {
     "ename": "NameError",
     "evalue": "name 'df_output' is not defined",
     "output_type": "error",
     "traceback": [
      "\u001b[1;31m---------------------------------------------------------------------------\u001b[0m",
      "\u001b[1;31mNameError\u001b[0m                                 Traceback (most recent call last)",
      "Cell \u001b[1;32mIn[139], line 5\u001b[0m\n\u001b[0;32m      3\u001b[0m time_slice \u001b[38;5;241m=\u001b[39m \u001b[38;5;241m365\u001b[39m\n\u001b[0;32m      4\u001b[0m x \u001b[38;5;241m=\u001b[39m np\u001b[38;5;241m.\u001b[39marange(time_slice)\n\u001b[1;32m----> 5\u001b[0m hru_list \u001b[38;5;241m=\u001b[39m \u001b[43mdf_output\u001b[49m[\u001b[38;5;124m'\u001b[39m\u001b[38;5;124mHRU\u001b[39m\u001b[38;5;124m'\u001b[39m]\u001b[38;5;241m.\u001b[39munique()\n\u001b[0;32m      6\u001b[0m rand \u001b[38;5;241m=\u001b[39m np\u001b[38;5;241m.\u001b[39mrandom\u001b[38;5;241m.\u001b[39mrandint(\u001b[38;5;28mlen\u001b[39m(hru_list))\n\u001b[0;32m      7\u001b[0m hru_rand \u001b[38;5;241m=\u001b[39m hru_list[rand]\n",
      "\u001b[1;31mNameError\u001b[0m: name 'df_output' is not defined"
     ]
    },
    {
     "data": {
      "text/plain": [
       "<Figure size 2000x2000 with 0 Axes>"
      ]
     },
     "metadata": {},
     "output_type": "display_data"
    }
   ],
   "source": [
    "fig = plt.figure(figsize=[20,20])\n",
    "for j in range(10):\n",
    "    \n",
    "    time_slice = 365\n",
    "    x = np.arange(time_slice)\n",
    "    hru_list = df_output['HRU'].unique()\n",
    "    rand = np.random.randint(len(hru_list))\n",
    "    hru_rand = hru_list[rand]\n",
    "\n",
    "    i = np.random.randint(len(df_output['OBS_RUN'][df_output['HRU']==hru_rand])-time_slice)\n",
    "    print(i)\n",
    "\n",
    "    #fig = plt.figure(figsize=(24, 5))\n",
    "\n",
    "    obs = df_output['OBS_RUN'][df_output['HRU']==hru_rand][i:i+time_slice].values.astype(np.float)\n",
    "    pred_mu = df_output['MOD_RUN_MU'][df_output['HRU']==hru_rand][i:i+time_slice].values.astype(np.float)\n",
    "    pred_sigma = df_output['MOD_RUN_SIGMA'][df_output['HRU']==hru_rand][i:i+time_slice].values.astype(np.float)\n",
    "    doy = df_output['DOY'][df_output['HRU']==hru_rand][i:i+time_slice].values.astype(np.float)\n",
    "\n",
    "    if dist=='gamma':\n",
    "        pred_loc = df_output['PRED_LOC'][df_output['HRU']==hru_rand][i:i+time_slice].values.astype(np.float)\n",
    "        pred_scale = df_output['PRED_SCALE'][df_output['HRU']==hru_rand][i:i+time_slice].values.astype(np.float)\n",
    "    \n",
    "    plt.subplot(5,2,j+1)\n",
    "    \n",
    "    # Plot model predictions.\n",
    "    plt.plot(x,obs, label='Observed', color='green')\n",
    "    plt.plot(x,rev_transform(pred_mu), label='Model Output', color='blue')\n",
    "\n",
    "    show_std = True\n",
    "\n",
    "    if show_std:\n",
    "        if dist=='gaussian':\n",
    "            plt.fill_between(x,\n",
    "                             rev_transform(pred_mu + 2 * pred_sigma),\n",
    "                             rev_transform(pred_mu - 2 * pred_sigma),\n",
    "                             color='tab:blue', alpha=0.2)\n",
    "\n",
    "        elif dist=='gamma':\n",
    "            p05 = rev_transform(scipy.stats.gamma.ppf(0.05, pred_loc, 0, 1/pred_scale))\n",
    "            p95 = rev_transform(scipy.stats.gamma.ppf(0.95, pred_loc, 0, 1/pred_scale))\n",
    "            p05[p05<0]=0\n",
    "            #pdb.set_trace()\n",
    "            plt.fill_between(x,\n",
    "                            p05,\n",
    "                            p95,\n",
    "                            color='tab:blue', alpha=0.2)\n",
    "\n",
    "    NSE = calc_nse(obs,rev_transform(pred_mu))\n",
    "    plt.title(\"NSE = %.3f\" % NSE, fontsize = 15)\n",
    "    \n",
    "    plt.xlim([0,time_slice])\n",
    "    if (j+2)%2==0:\n",
    "        plt.ylabel('Discharge (m3/s)', fontsize=15)\n",
    "    plt.legend()\n",
    "    plt.tight_layout()\n",
    "    #plt.show()\n",
    "    \n",
    "SAVE_PATH  = '/home/donal/Documents/mg963/MResProject/figures'\n",
    "plt.savefig(os.path.join(SAVE_PATH,('timeseries_gamma_PGB_%s.png' % (np.random.randint(100000)))), dpi=500, bbox_inches='tight') # 6"
   ]
  },
  {
   "cell_type": "markdown",
   "metadata": {},
   "source": [
    "## Test with known datanse_array"
   ]
  },
  {
   "cell_type": "code",
   "execution_count": null,
   "metadata": {},
   "outputs": [],
   "source": [
    "import pickle\n",
    "path = \"test_tasks/generate_test_task_0.pkl\"\n",
    "a_file = open(path, \"rb\")\n",
    "task = pickle.load(a_file)\n",
    "a_file.close()"
   ]
  },
  {
   "cell_type": "code",
   "execution_count": null,
   "metadata": {},
   "outputs": [],
   "source": [
    "import importlib\n",
    "importlib.reload(convcnp.feature_mask)"
   ]
  },
  {
   "cell_type": "code",
   "execution_count": null,
   "metadata": {},
   "outputs": [],
   "source": [
    "#import convcnp.feature_mask as mask\n",
    "task = mask.task_mask(task, context_mask, target_mask)"
   ]
  },
  {
   "cell_type": "code",
   "execution_count": null,
   "metadata": {},
   "outputs": [],
   "source": [
    "# Compute average task log-likelihood.\n",
    "batch_size = task['x_context'].shape[0]\n",
    "ravg = RunningAverage()\n",
    "model.eval()\n",
    "with torch.no_grad():\n",
    "    y_mean, y_std = model(task['x_context'], task['y_context'], task['x_target'],task['f'],task['m'],embedding=C.feature_embedding_flag)\n",
    "    obj = -gaussian_logpdf(task['y_target'], y_mean, y_std, 'batched_mean')\n",
    "        \n",
    "    ravg.update(obj.item() / gen_test.batch_size, gen_test.batch_size)\n",
    "        \n",
    "    fig = plt.figure(figsize=(24, 25))\n",
    "    for i in range(5):\n",
    "        plt.subplot(5, 1, i + 1)\n",
    "        plot_model_task(model, task, idx=i, legend=i==2)\n",
    "    plt.show()\n",
    "    \n",
    "elapsed = time.time() - start        \n",
    "print('Model averages a log likelihood of %.3f on unseen tasks -- time: %.3f' % (-ravg.avg, elapsed))"
   ]
  }
 ],
 "metadata": {
  "accelerator": "GPU",
  "colab": {
   "collapsed_sections": [],
   "machine_shape": "hm",
   "name": "convcnp_regression_colab.ipynb",
   "provenance": []
  },
  "kernelspec": {
   "display_name": "Python 3",
   "language": "python",
   "name": "python3"
  },
  "language_info": {
   "codemirror_mode": {
    "name": "ipython",
    "version": 3
   },
   "file_extension": ".py",
   "mimetype": "text/x-python",
   "name": "python",
   "nbconvert_exporter": "python",
   "pygments_lexer": "ipython3",
   "version": "3.12.3"
  },
  "pycharm": {
   "stem_cell": {
    "cell_type": "raw",
    "metadata": {
     "collapsed": false
    },
    "source": []
   }
  }
 },
 "nbformat": 4,
 "nbformat_minor": 4
}
